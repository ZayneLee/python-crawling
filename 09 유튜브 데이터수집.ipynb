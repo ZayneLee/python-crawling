{
 "cells": [
  {
   "cell_type": "code",
   "execution_count": 1,
   "id": "8489a2f2-f66b-4240-82cf-7623e8277318",
   "metadata": {},
   "outputs": [],
   "source": [
    "from selenium import webdriver as wb\n",
    "from selenium.webdriver.common.keys import Keys\n",
    "from selenium.webdriver.common.by import By\n",
    "import time"
   ]
  },
  {
   "cell_type": "code",
   "execution_count": 2,
   "id": "dd7ebadf-22c4-4305-abde-819dfdb5c322",
   "metadata": {},
   "outputs": [],
   "source": [
    "driver = wb.Chrome()\n",
    "driver.get(\"https://www.youtube.com/@ALTUBETV/videos\")"
   ]
  },
  {
   "cell_type": "code",
   "execution_count": 3,
   "id": "a3feaf1c-9880-4fea-84b0-7bb748e27ad0",
   "metadata": {},
   "outputs": [],
   "source": [
    "title = driver.find_elements(By.ID, \"video-title\")"
   ]
  },
  {
   "cell_type": "code",
   "execution_count": 4,
   "id": "4fc774e0-ec44-4213-a8f5-8a4a746585e4",
   "metadata": {},
   "outputs": [
    {
     "data": {
      "text/plain": [
       "'알파고를 두들겨 패고 리플레이까지 남겨서 강의 교재로 써먹겠다는 상대ㄷㄷ;;'"
      ]
     },
     "execution_count": 4,
     "metadata": {},
     "output_type": "execute_result"
    }
   ],
   "source": [
    "title[1].text"
   ]
  },
  {
   "cell_type": "code",
   "execution_count": 5,
   "id": "1d743d22-5b3c-47f7-8a0f-ee040f465608",
   "metadata": {},
   "outputs": [],
   "source": [
    "view = driver.find_elements(By.CSS_SELECTOR, \"div#metadata-line > span:nth-child(3)\")"
   ]
  },
  {
   "cell_type": "code",
   "execution_count": 6,
   "id": "ba7f6616-e68c-4c39-83fc-395f9d24a17f",
   "metadata": {},
   "outputs": [
    {
     "data": {
      "text/plain": [
       "'조회수 8만회'"
      ]
     },
     "execution_count": 6,
     "metadata": {},
     "output_type": "execute_result"
    }
   ],
   "source": [
    "view[1].text"
   ]
  },
  {
   "cell_type": "code",
   "execution_count": 7,
   "id": "4c1a503f-41bf-44b3-bef8-2ec66aed480c",
   "metadata": {},
   "outputs": [],
   "source": [
    "body = driver.find_element(By.CSS_SELECTOR, \"body\")"
   ]
  },
  {
   "cell_type": "code",
   "execution_count": 10,
   "id": "e2708263-9e35-4b4f-ba5f-9e6c1175427b",
   "metadata": {},
   "outputs": [],
   "source": [
    "body.send_keys(Keys.END)"
   ]
  },
  {
   "cell_type": "code",
   "execution_count": null,
   "id": "52f91f42-a9f4-45f0-be71-06ec45c9e00a",
   "metadata": {},
   "outputs": [],
   "source": [
    "driver = wb.Chrome()\n",
    "time.sleep(0.5)\n",
    "driver.get(\"https://www.youtube.com/@ALTUBETV/videos\")\n",
    "time.sleep(1)\n",
    "body = driver.find_element(By.CSS_SELECTOR, \"body\")\n",
    "for i in range(10) :\n",
    "    body.send_keys(Keys.END)\n",
    "    time.sleep(1)\n",
    "title = driver.find_elements(By.ID, \"video-title\")\n",
    "view = driver.find_elements(By.CSS_SELECTOR, \"div#metadata-line > span:nth-child(3)\")\n",
    "titleList = []\n",
    "viewList = []\n",
    "for i in range(len(title)) :\n",
    "    titleLis"
   ]
  }
 ],
 "metadata": {
  "kernelspec": {
   "display_name": "Python 3 (ipykernel)",
   "language": "python",
   "name": "python3"
  },
  "language_info": {
   "codemirror_mode": {
    "name": "ipython",
    "version": 3
   },
   "file_extension": ".py",
   "mimetype": "text/x-python",
   "name": "python",
   "nbconvert_exporter": "python",
   "pygments_lexer": "ipython3",
   "version": "3.12.7"
  }
 },
 "nbformat": 4,
 "nbformat_minor": 5
}
