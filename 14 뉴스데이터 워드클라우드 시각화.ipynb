{
 "cells": [
  {
   "cell_type": "code",
   "execution_count": 18,
   "id": "3ddb4f98-09b0-4f1b-b8d9-af753b2bbfb6",
   "metadata": {},
   "outputs": [],
   "source": [
    "import requests as req\n",
    "from bs4 import BeautifulSoup as bs\n",
    "from selenium.webdriver.common.keys import Keys"
   ]
  },
  {
   "cell_type": "code",
   "execution_count": 19,
   "id": "4000ed92-7a59-4049-a790-625877dee9ba",
   "metadata": {},
   "outputs": [],
   "source": [
    "res = req.get(\"https://search.naver.com/search.naver?ssc=tab.news.all&where=news&sm=tab_jum&query=%EA%B3%84%EC%97%84%EB%A0%B9\")"
   ]
  },
  {
   "cell_type": "code",
   "execution_count": 20,
   "id": "961be769-2852-488e-9080-8151035728cb",
   "metadata": {},
   "outputs": [],
   "source": [
    "soup = bs(res.text, \"lxml\")"
   ]
  },
  {
   "cell_type": "code",
   "execution_count": 31,
   "id": "94a51a70-e208-4a66-bc81-84dc37c4a27e",
   "metadata": {},
   "outputs": [],
   "source": [
    "titleList = \"\"\n",
    "title = soup.select(\"a.news_tit\")\n",
    "for i in title:\n",
    "    titleList += i.text.strip()"
   ]
  },
  {
   "cell_type": "code",
   "execution_count": 32,
   "id": "3334dbbd-cf51-403d-8eae-c0163987c9fa",
   "metadata": {},
   "outputs": [
    {
     "data": {
      "text/plain": [
       "'김흥국, 尹 계엄령 어찌 생각하나 물었더니…\"너나 잘해\"여인형 \"계엄령, 사전에 알지 못해…새벽 1시 넘어 부대출동\"이주호 \"계엄령 동의 안해…선포 전 통보 못 받아\"‘당구 차유람 남편’ 이지성 “계엄령, 대통령 고유 권한… 실패 안타...국힘 창원시의원들 \"계엄령은 대통령의 고유 권한…\"‘계엄령’ ‘윤석열’ 검색량 1000% 폭증…‘탄핵’도 20만번 검색계엄 당일 텔레그램 신규설치 4배 급증…\\'디지털 망명\\' 현실로‘정부 대변인’ 유인촌 “계엄 전부터 탄핵 탓 국정 어려워”…계엄 합...45년만의 한국 \\'계엄령\\', 국제사회가 놀란 이유[AK라디오]이주호 “계엄사, 휴교령 지휘 없었다…계엄령 동의 안해”'"
      ]
     },
     "execution_count": 32,
     "metadata": {},
     "output_type": "execute_result"
    }
   ],
   "source": [
    "titleList"
   ]
  },
  {
   "cell_type": "code",
   "execution_count": 23,
   "id": "8e2140c2-4488-42fa-8911-86067810e889",
   "metadata": {},
   "outputs": [
    {
     "name": "stdout",
     "output_type": "stream",
     "text": [
      "Collecting wordcloud\n",
      "  Downloading wordcloud-1.9.4-cp312-cp312-win_amd64.whl.metadata (3.5 kB)\n",
      "Requirement already satisfied: numpy>=1.6.1 in c:\\users\\star1\\anaconda3\\lib\\site-packages (from wordcloud) (1.26.4)\n",
      "Requirement already satisfied: pillow in c:\\users\\star1\\anaconda3\\lib\\site-packages (from wordcloud) (10.4.0)\n",
      "Requirement already satisfied: matplotlib in c:\\users\\star1\\anaconda3\\lib\\site-packages (from wordcloud) (3.9.2)\n",
      "Requirement already satisfied: contourpy>=1.0.1 in c:\\users\\star1\\anaconda3\\lib\\site-packages (from matplotlib->wordcloud) (1.2.0)\n",
      "Requirement already satisfied: cycler>=0.10 in c:\\users\\star1\\anaconda3\\lib\\site-packages (from matplotlib->wordcloud) (0.11.0)\n",
      "Requirement already satisfied: fonttools>=4.22.0 in c:\\users\\star1\\anaconda3\\lib\\site-packages (from matplotlib->wordcloud) (4.51.0)\n",
      "Requirement already satisfied: kiwisolver>=1.3.1 in c:\\users\\star1\\anaconda3\\lib\\site-packages (from matplotlib->wordcloud) (1.4.4)\n",
      "Requirement already satisfied: packaging>=20.0 in c:\\users\\star1\\anaconda3\\lib\\site-packages (from matplotlib->wordcloud) (24.1)\n",
      "Requirement already satisfied: pyparsing>=2.3.1 in c:\\users\\star1\\anaconda3\\lib\\site-packages (from matplotlib->wordcloud) (3.1.2)\n",
      "Requirement already satisfied: python-dateutil>=2.7 in c:\\users\\star1\\anaconda3\\lib\\site-packages (from matplotlib->wordcloud) (2.9.0.post0)\n",
      "Requirement already satisfied: six>=1.5 in c:\\users\\star1\\anaconda3\\lib\\site-packages (from python-dateutil>=2.7->matplotlib->wordcloud) (1.16.0)\n",
      "Downloading wordcloud-1.9.4-cp312-cp312-win_amd64.whl (301 kB)\n",
      "Installing collected packages: wordcloud\n",
      "Successfully installed wordcloud-1.9.4\n"
     ]
    }
   ],
   "source": [
    "!pip install wordcloud"
   ]
  },
  {
   "cell_type": "code",
   "execution_count": 24,
   "id": "b771f705-8ff5-4360-8507-d4e54dc984cb",
   "metadata": {},
   "outputs": [
    {
     "name": "stdout",
     "output_type": "stream",
     "text": [
      "Collecting konlpy\n",
      "  Downloading konlpy-0.6.0-py2.py3-none-any.whl.metadata (1.9 kB)\n",
      "Collecting JPype1>=0.7.0 (from konlpy)\n",
      "  Downloading jpype1-1.5.1-cp312-cp312-win_amd64.whl.metadata (5.0 kB)\n",
      "Requirement already satisfied: lxml>=4.1.0 in c:\\users\\star1\\anaconda3\\lib\\site-packages (from konlpy) (5.2.1)\n",
      "Requirement already satisfied: numpy>=1.6 in c:\\users\\star1\\anaconda3\\lib\\site-packages (from konlpy) (1.26.4)\n",
      "Requirement already satisfied: packaging in c:\\users\\star1\\anaconda3\\lib\\site-packages (from JPype1>=0.7.0->konlpy) (24.1)\n",
      "Downloading konlpy-0.6.0-py2.py3-none-any.whl (19.4 MB)\n",
      "   ---------------------------------------- 0.0/19.4 MB ? eta -:--:--\n",
      "   -- ------------------------------------- 1.3/19.4 MB 8.4 MB/s eta 0:00:03\n",
      "   ------ --------------------------------- 3.1/19.4 MB 8.8 MB/s eta 0:00:02\n",
      "   ----------- ---------------------------- 5.5/19.4 MB 9.6 MB/s eta 0:00:02\n",
      "   --------------- ------------------------ 7.3/19.4 MB 9.4 MB/s eta 0:00:02\n",
      "   ------------------ --------------------- 9.2/19.4 MB 9.2 MB/s eta 0:00:02\n",
      "   --------------------- ------------------ 10.2/19.4 MB 9.2 MB/s eta 0:00:01\n",
      "   ---------------------- ----------------- 10.7/19.4 MB 7.8 MB/s eta 0:00:02\n",
      "   ---------------------- ----------------- 11.0/19.4 MB 6.6 MB/s eta 0:00:02\n",
      "   ----------------------- ---------------- 11.3/19.4 MB 6.6 MB/s eta 0:00:02\n",
      "   ------------------------- -------------- 12.3/19.4 MB 5.9 MB/s eta 0:00:02\n",
      "   ----------------------------- ---------- 14.2/19.4 MB 6.2 MB/s eta 0:00:01\n",
      "   --------------------------------- ------ 16.3/19.4 MB 6.6 MB/s eta 0:00:01\n",
      "   -------------------------------------- - 18.9/19.4 MB 6.9 MB/s eta 0:00:01\n",
      "   ---------------------------------------- 19.4/19.4 MB 6.9 MB/s eta 0:00:00\n",
      "Downloading jpype1-1.5.1-cp312-cp312-win_amd64.whl (355 kB)\n",
      "Installing collected packages: JPype1, konlpy\n",
      "Successfully installed JPype1-1.5.1 konlpy-0.6.0\n"
     ]
    }
   ],
   "source": [
    "!pip install konlpy"
   ]
  },
  {
   "cell_type": "code",
   "execution_count": 25,
   "id": "6b4920c8-33ff-4467-8376-070f996bc74e",
   "metadata": {},
   "outputs": [],
   "source": [
    "from wordcloud import WordCloud\n",
    "from konlpy.tag import Twitter\n",
    "from nltk import FreqDist\n",
    "import matplotlib.pyplot as plt"
   ]
  },
  {
   "cell_type": "code",
   "execution_count": 27,
   "id": "7b2f1181-9035-476f-bdda-0149197f9038",
   "metadata": {},
   "outputs": [],
   "source": [
    "tw = Twitter()"
   ]
  },
  {
   "cell_type": "code",
   "execution_count": 28,
   "id": "26e88b11-f19c-4e00-afb3-c0b131502eae",
   "metadata": {},
   "outputs": [
    {
     "data": {
      "text/plain": [
       "[('아버지', 'Noun'),\n",
       " ('가방', 'Noun'),\n",
       " ('에', 'Josa'),\n",
       " ('들어가신다', 'Verb'),\n",
       " ('.', 'Punctuation')]"
      ]
     },
     "execution_count": 28,
     "metadata": {},
     "output_type": "execute_result"
    }
   ],
   "source": [
    "tw.pos(\"아버지가방에들어가신다.\")"
   ]
  },
  {
   "cell_type": "code",
   "execution_count": 33,
   "id": "6280f149-1dcd-48fa-8f78-8220b12be067",
   "metadata": {},
   "outputs": [
    {
     "data": {
      "text/plain": [
       "FreqDist({'계엄령': 8, '계엄': 4, '이주호': 2, '동의': 2, '안해': 2, '전': 2, '대통령': 2, '고유': 2, '권한': 2, '검색': 2, ...})"
      ]
     },
     "execution_count": 33,
     "metadata": {},
     "output_type": "execute_result"
    }
   ],
   "source": [
    "FreqDist(tw.nouns(titleList))"
   ]
  },
  {
   "cell_type": "code",
   "execution_count": 34,
   "id": "57f2b501-1251-4b3c-a286-4337134eafd8",
   "metadata": {},
   "outputs": [],
   "source": [
    "# H2GTRE.TTF\n",
    "wc = WordCloud(font_path=\"/Windows/Fonts/H2GTRE.TTF\", background_color=\"white\", random_state=0)"
   ]
  },
  {
   "cell_type": "code",
   "execution_count": null,
   "id": "e3078f0b-d382-4a7a-986b-ecbb3d03e15e",
   "metadata": {},
   "outputs": [],
   "source": [
    "plt.figure(figsize=(15,15))\n",
    "plt.imshow(wc.generate_from_requencies(text))\n",
    "plt.axis()"
   ]
  }
 ],
 "metadata": {
  "kernelspec": {
   "display_name": "Python 3 (ipykernel)",
   "language": "python",
   "name": "python3"
  },
  "language_info": {
   "codemirror_mode": {
    "name": "ipython",
    "version": 3
   },
   "file_extension": ".py",
   "mimetype": "text/x-python",
   "name": "python",
   "nbconvert_exporter": "python",
   "pygments_lexer": "ipython3",
   "version": "3.12.7"
  }
 },
 "nbformat": 4,
 "nbformat_minor": 5
}
