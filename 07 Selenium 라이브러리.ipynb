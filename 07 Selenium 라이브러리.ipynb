{
 "cells": [
  {
   "cell_type": "code",
   "execution_count": 2,
   "id": "40e05a11-3b2b-46ca-b6c9-a70e009f3960",
   "metadata": {},
   "outputs": [
    {
     "name": "stdout",
     "output_type": "stream",
     "text": [
      "Requirement already satisfied: selenium in c:\\users\\star1\\anaconda3\\lib\\site-packages (4.27.1)\n",
      "Requirement already satisfied: urllib3<3,>=1.26 in c:\\users\\star1\\anaconda3\\lib\\site-packages (from urllib3[socks]<3,>=1.26->selenium) (2.2.3)\n",
      "Requirement already satisfied: trio~=0.17 in c:\\users\\star1\\anaconda3\\lib\\site-packages (from selenium) (0.27.0)\n",
      "Requirement already satisfied: trio-websocket~=0.9 in c:\\users\\star1\\anaconda3\\lib\\site-packages (from selenium) (0.11.1)\n",
      "Requirement already satisfied: certifi>=2021.10.8 in c:\\users\\star1\\anaconda3\\lib\\site-packages (from selenium) (2024.8.30)\n",
      "Requirement already satisfied: typing_extensions~=4.9 in c:\\users\\star1\\anaconda3\\lib\\site-packages (from selenium) (4.11.0)\n",
      "Requirement already satisfied: websocket-client~=1.8 in c:\\users\\star1\\anaconda3\\lib\\site-packages (from selenium) (1.8.0)\n",
      "Requirement already satisfied: attrs>=23.2.0 in c:\\users\\star1\\anaconda3\\lib\\site-packages (from trio~=0.17->selenium) (24.2.0)\n",
      "Requirement already satisfied: sortedcontainers in c:\\users\\star1\\anaconda3\\lib\\site-packages (from trio~=0.17->selenium) (2.4.0)\n",
      "Requirement already satisfied: idna in c:\\users\\star1\\anaconda3\\lib\\site-packages (from trio~=0.17->selenium) (3.7)\n",
      "Requirement already satisfied: outcome in c:\\users\\star1\\anaconda3\\lib\\site-packages (from trio~=0.17->selenium) (1.3.0.post0)\n",
      "Requirement already satisfied: sniffio>=1.3.0 in c:\\users\\star1\\anaconda3\\lib\\site-packages (from trio~=0.17->selenium) (1.3.0)\n",
      "Requirement already satisfied: cffi>=1.14 in c:\\users\\star1\\anaconda3\\lib\\site-packages (from trio~=0.17->selenium) (1.17.1)\n",
      "Requirement already satisfied: wsproto>=0.14 in c:\\users\\star1\\anaconda3\\lib\\site-packages (from trio-websocket~=0.9->selenium) (1.2.0)\n",
      "Requirement already satisfied: pysocks!=1.5.7,<2.0,>=1.5.6 in c:\\users\\star1\\anaconda3\\lib\\site-packages (from urllib3[socks]<3,>=1.26->selenium) (1.7.1)\n",
      "Requirement already satisfied: pycparser in c:\\users\\star1\\anaconda3\\lib\\site-packages (from cffi>=1.14->trio~=0.17->selenium) (2.21)\n",
      "Requirement already satisfied: h11<1,>=0.9.0 in c:\\users\\star1\\anaconda3\\lib\\site-packages (from wsproto>=0.14->trio-websocket~=0.9->selenium) (0.14.0)\n"
     ]
    }
   ],
   "source": [
    "!pip install selenium"
   ]
  },
  {
   "cell_type": "code",
   "execution_count": 13,
   "id": "78f39a73-5d13-4c49-984a-7a0c3e63e700",
   "metadata": {},
   "outputs": [],
   "source": [
    "from selenium import webdriver as wb\n",
    "from selenium.webdriver.common.keys import Keys\n",
    "from selenium.webdriver.common.by import By"
   ]
  },
  {
   "cell_type": "code",
   "execution_count": 25,
   "id": "9236ec76-7f18-4393-b5ab-b575491562bf",
   "metadata": {},
   "outputs": [],
   "source": [
    "driver = wb.Chrome()"
   ]
  },
  {
   "cell_type": "code",
   "execution_count": 37,
   "id": "0a8ce8c4-d5fa-44ae-b87d-7df59f9bc9c8",
   "metadata": {},
   "outputs": [],
   "source": [
    "driver.get(\"http://www.naver.com\")"
   ]
  },
  {
   "cell_type": "code",
   "execution_count": 38,
   "id": "e70d9e0f-cc12-43d9-b778-1b4014ccfd0c",
   "metadata": {},
   "outputs": [],
   "source": [
    "search = driver.find_element(By.ID,\"query\")"
   ]
  },
  {
   "cell_type": "code",
   "execution_count": 39,
   "id": "fa2dfde2-3693-49c2-bc7f-343a551db8e4",
   "metadata": {},
   "outputs": [],
   "source": [
    "search.send_keys(\"코로나\")"
   ]
  },
  {
   "cell_type": "code",
   "execution_count": 33,
   "id": "9881a1ad-3628-4125-81de-9c4b1939dd24",
   "metadata": {
    "collapsed": true,
    "jupyter": {
     "outputs_hidden": true
    }
   },
   "outputs": [
    {
     "ename": "StaleElementReferenceException",
     "evalue": "Message: stale element reference: stale element not found\n  (Session info: chrome=131.0.6778.86); For documentation on this error, please visit: https://www.selenium.dev/documentation/webdriver/troubleshooting/errors#stale-element-reference-exception\nStacktrace:\n\tGetHandleVerifier [0x00007FF6D0A16CB5+28821]\n\t(No symbol) [0x00007FF6D0983840]\n\t(No symbol) [0x00007FF6D082578A]\n\t(No symbol) [0x00007FF6D0839D94]\n\t(No symbol) [0x00007FF6D0838844]\n\t(No symbol) [0x00007FF6D082CF91]\n\t(No symbol) [0x00007FF6D082ADB5]\n\t(No symbol) [0x00007FF6D082EFCC]\n\t(No symbol) [0x00007FF6D082F09F]\n\t(No symbol) [0x00007FF6D087A0AC]\n\t(No symbol) [0x00007FF6D087A174]\n\t(No symbol) [0x00007FF6D086FDA7]\n\t(No symbol) [0x00007FF6D089F2FA]\n\t(No symbol) [0x00007FF6D086C3F6]\n\t(No symbol) [0x00007FF6D089F510]\n\t(No symbol) [0x00007FF6D08BF412]\n\t(No symbol) [0x00007FF6D089F0A3]\n\t(No symbol) [0x00007FF6D086A778]\n\t(No symbol) [0x00007FF6D086B8E1]\n\tGetHandleVerifier [0x00007FF6D0D4FCAD+3408013]\n\tGetHandleVerifier [0x00007FF6D0D6741F+3504127]\n\tGetHandleVerifier [0x00007FF6D0D5B5FD+3455453]\n\tGetHandleVerifier [0x00007FF6D0ADBDBB+835995]\n\t(No symbol) [0x00007FF6D098EB5F]\n\t(No symbol) [0x00007FF6D098A814]\n\t(No symbol) [0x00007FF6D098A9AD]\n\t(No symbol) [0x00007FF6D097A199]\n\tBaseThreadInitThunk [0x00007FFF7548259D+29]\n\tRtlUserThreadStart [0x00007FFF7616AF38+40]\n",
     "output_type": "error",
     "traceback": [
      "\u001b[1;31m---------------------------------------------------------------------------\u001b[0m",
      "\u001b[1;31mStaleElementReferenceException\u001b[0m            Traceback (most recent call last)",
      "Cell \u001b[1;32mIn[33], line 1\u001b[0m\n\u001b[1;32m----> 1\u001b[0m search\u001b[38;5;241m.\u001b[39msend_keys(Keys\u001b[38;5;241m.\u001b[39mENTER)\n",
      "File \u001b[1;32m~\\anaconda3\\Lib\\site-packages\\selenium\\webdriver\\remote\\webelement.py:231\u001b[0m, in \u001b[0;36mWebElement.send_keys\u001b[1;34m(self, *value)\u001b[0m\n\u001b[0;32m    228\u001b[0m             remote_files\u001b[38;5;241m.\u001b[39mappend(\u001b[38;5;28mself\u001b[39m\u001b[38;5;241m.\u001b[39m_upload(file))\n\u001b[0;32m    229\u001b[0m         value \u001b[38;5;241m=\u001b[39m \u001b[38;5;28mtuple\u001b[39m(\u001b[38;5;124m\"\u001b[39m\u001b[38;5;130;01m\\n\u001b[39;00m\u001b[38;5;124m\"\u001b[39m\u001b[38;5;241m.\u001b[39mjoin(remote_files))\n\u001b[1;32m--> 231\u001b[0m \u001b[38;5;28mself\u001b[39m\u001b[38;5;241m.\u001b[39m_execute(\n\u001b[0;32m    232\u001b[0m     Command\u001b[38;5;241m.\u001b[39mSEND_KEYS_TO_ELEMENT, {\u001b[38;5;124m\"\u001b[39m\u001b[38;5;124mtext\u001b[39m\u001b[38;5;124m\"\u001b[39m: \u001b[38;5;124m\"\u001b[39m\u001b[38;5;124m\"\u001b[39m\u001b[38;5;241m.\u001b[39mjoin(keys_to_typing(value)), \u001b[38;5;124m\"\u001b[39m\u001b[38;5;124mvalue\u001b[39m\u001b[38;5;124m\"\u001b[39m: keys_to_typing(value)}\n\u001b[0;32m    233\u001b[0m )\n",
      "File \u001b[1;32m~\\anaconda3\\Lib\\site-packages\\selenium\\webdriver\\remote\\webelement.py:395\u001b[0m, in \u001b[0;36mWebElement._execute\u001b[1;34m(self, command, params)\u001b[0m\n\u001b[0;32m    393\u001b[0m     params \u001b[38;5;241m=\u001b[39m {}\n\u001b[0;32m    394\u001b[0m params[\u001b[38;5;124m\"\u001b[39m\u001b[38;5;124mid\u001b[39m\u001b[38;5;124m\"\u001b[39m] \u001b[38;5;241m=\u001b[39m \u001b[38;5;28mself\u001b[39m\u001b[38;5;241m.\u001b[39m_id\n\u001b[1;32m--> 395\u001b[0m \u001b[38;5;28;01mreturn\u001b[39;00m \u001b[38;5;28mself\u001b[39m\u001b[38;5;241m.\u001b[39m_parent\u001b[38;5;241m.\u001b[39mexecute(command, params)\n",
      "File \u001b[1;32m~\\anaconda3\\Lib\\site-packages\\selenium\\webdriver\\remote\\webdriver.py:384\u001b[0m, in \u001b[0;36mWebDriver.execute\u001b[1;34m(self, driver_command, params)\u001b[0m\n\u001b[0;32m    382\u001b[0m response \u001b[38;5;241m=\u001b[39m \u001b[38;5;28mself\u001b[39m\u001b[38;5;241m.\u001b[39mcommand_executor\u001b[38;5;241m.\u001b[39mexecute(driver_command, params)\n\u001b[0;32m    383\u001b[0m \u001b[38;5;28;01mif\u001b[39;00m response:\n\u001b[1;32m--> 384\u001b[0m     \u001b[38;5;28mself\u001b[39m\u001b[38;5;241m.\u001b[39merror_handler\u001b[38;5;241m.\u001b[39mcheck_response(response)\n\u001b[0;32m    385\u001b[0m     response[\u001b[38;5;124m\"\u001b[39m\u001b[38;5;124mvalue\u001b[39m\u001b[38;5;124m\"\u001b[39m] \u001b[38;5;241m=\u001b[39m \u001b[38;5;28mself\u001b[39m\u001b[38;5;241m.\u001b[39m_unwrap_value(response\u001b[38;5;241m.\u001b[39mget(\u001b[38;5;124m\"\u001b[39m\u001b[38;5;124mvalue\u001b[39m\u001b[38;5;124m\"\u001b[39m, \u001b[38;5;28;01mNone\u001b[39;00m))\n\u001b[0;32m    386\u001b[0m     \u001b[38;5;28;01mreturn\u001b[39;00m response\n",
      "File \u001b[1;32m~\\anaconda3\\Lib\\site-packages\\selenium\\webdriver\\remote\\errorhandler.py:232\u001b[0m, in \u001b[0;36mErrorHandler.check_response\u001b[1;34m(self, response)\u001b[0m\n\u001b[0;32m    230\u001b[0m         alert_text \u001b[38;5;241m=\u001b[39m value[\u001b[38;5;124m\"\u001b[39m\u001b[38;5;124malert\u001b[39m\u001b[38;5;124m\"\u001b[39m]\u001b[38;5;241m.\u001b[39mget(\u001b[38;5;124m\"\u001b[39m\u001b[38;5;124mtext\u001b[39m\u001b[38;5;124m\"\u001b[39m)\n\u001b[0;32m    231\u001b[0m     \u001b[38;5;28;01mraise\u001b[39;00m exception_class(message, screen, stacktrace, alert_text)  \u001b[38;5;66;03m# type: ignore[call-arg]  # mypy is not smart enough here\u001b[39;00m\n\u001b[1;32m--> 232\u001b[0m \u001b[38;5;28;01mraise\u001b[39;00m exception_class(message, screen, stacktrace)\n",
      "\u001b[1;31mStaleElementReferenceException\u001b[0m: Message: stale element reference: stale element not found\n  (Session info: chrome=131.0.6778.86); For documentation on this error, please visit: https://www.selenium.dev/documentation/webdriver/troubleshooting/errors#stale-element-reference-exception\nStacktrace:\n\tGetHandleVerifier [0x00007FF6D0A16CB5+28821]\n\t(No symbol) [0x00007FF6D0983840]\n\t(No symbol) [0x00007FF6D082578A]\n\t(No symbol) [0x00007FF6D0839D94]\n\t(No symbol) [0x00007FF6D0838844]\n\t(No symbol) [0x00007FF6D082CF91]\n\t(No symbol) [0x00007FF6D082ADB5]\n\t(No symbol) [0x00007FF6D082EFCC]\n\t(No symbol) [0x00007FF6D082F09F]\n\t(No symbol) [0x00007FF6D087A0AC]\n\t(No symbol) [0x00007FF6D087A174]\n\t(No symbol) [0x00007FF6D086FDA7]\n\t(No symbol) [0x00007FF6D089F2FA]\n\t(No symbol) [0x00007FF6D086C3F6]\n\t(No symbol) [0x00007FF6D089F510]\n\t(No symbol) [0x00007FF6D08BF412]\n\t(No symbol) [0x00007FF6D089F0A3]\n\t(No symbol) [0x00007FF6D086A778]\n\t(No symbol) [0x00007FF6D086B8E1]\n\tGetHandleVerifier [0x00007FF6D0D4FCAD+3408013]\n\tGetHandleVerifier [0x00007FF6D0D6741F+3504127]\n\tGetHandleVerifier [0x00007FF6D0D5B5FD+3455453]\n\tGetHandleVerifier [0x00007FF6D0ADBDBB+835995]\n\t(No symbol) [0x00007FF6D098EB5F]\n\t(No symbol) [0x00007FF6D098A814]\n\t(No symbol) [0x00007FF6D098A9AD]\n\t(No symbol) [0x00007FF6D097A199]\n\tBaseThreadInitThunk [0x00007FFF7548259D+29]\n\tRtlUserThreadStart [0x00007FFF7616AF38+40]\n"
     ]
    }
   ],
   "source": [
    "search.send_keys(Keys.ENTER)"
   ]
  },
  {
   "cell_type": "code",
   "execution_count": 35,
   "id": "0ff7cb41-aee5-4fa6-aa8f-a3026df803b3",
   "metadata": {},
   "outputs": [],
   "source": [
    "driver.back()"
   ]
  },
  {
   "cell_type": "code",
   "execution_count": 42,
   "id": "92ae67d0-0bfd-4c8b-8f54-8de60fff57ce",
   "metadata": {},
   "outputs": [],
   "source": [
    "btn = driver.find_element(By.CLASS_NAME,\"btn_search\")"
   ]
  },
  {
   "cell_type": "code",
   "execution_count": 44,
   "id": "ce5621dd-718b-4042-bd04-3437692fa14e",
   "metadata": {
    "collapsed": true,
    "jupyter": {
     "outputs_hidden": true
    }
   },
   "outputs": [
    {
     "ename": "StaleElementReferenceException",
     "evalue": "Message: stale element reference: stale element not found\n  (Session info: chrome=131.0.6778.86); For documentation on this error, please visit: https://www.selenium.dev/documentation/webdriver/troubleshooting/errors#stale-element-reference-exception\nStacktrace:\n\tGetHandleVerifier [0x00007FF6D0A16CB5+28821]\n\t(No symbol) [0x00007FF6D0983840]\n\t(No symbol) [0x00007FF6D082578A]\n\t(No symbol) [0x00007FF6D0839D94]\n\t(No symbol) [0x00007FF6D0838844]\n\t(No symbol) [0x00007FF6D082CF91]\n\t(No symbol) [0x00007FF6D082ADB5]\n\t(No symbol) [0x00007FF6D082EFCC]\n\t(No symbol) [0x00007FF6D082F09F]\n\t(No symbol) [0x00007FF6D087B34B]\n\t(No symbol) [0x00007FF6D086CA96]\n\t(No symbol) [0x00007FF6D089F2FA]\n\t(No symbol) [0x00007FF6D086C3F6]\n\t(No symbol) [0x00007FF6D089F510]\n\t(No symbol) [0x00007FF6D08BF412]\n\t(No symbol) [0x00007FF6D089F0A3]\n\t(No symbol) [0x00007FF6D086A778]\n\t(No symbol) [0x00007FF6D086B8E1]\n\tGetHandleVerifier [0x00007FF6D0D4FCAD+3408013]\n\tGetHandleVerifier [0x00007FF6D0D6741F+3504127]\n\tGetHandleVerifier [0x00007FF6D0D5B5FD+3455453]\n\tGetHandleVerifier [0x00007FF6D0ADBDBB+835995]\n\t(No symbol) [0x00007FF6D098EB5F]\n\t(No symbol) [0x00007FF6D098A814]\n\t(No symbol) [0x00007FF6D098A9AD]\n\t(No symbol) [0x00007FF6D097A199]\n\tBaseThreadInitThunk [0x00007FFF7548259D+29]\n\tRtlUserThreadStart [0x00007FFF7616AF38+40]\n",
     "output_type": "error",
     "traceback": [
      "\u001b[1;31m---------------------------------------------------------------------------\u001b[0m",
      "\u001b[1;31mStaleElementReferenceException\u001b[0m            Traceback (most recent call last)",
      "Cell \u001b[1;32mIn[44], line 1\u001b[0m\n\u001b[1;32m----> 1\u001b[0m btn\u001b[38;5;241m.\u001b[39mclick()\n",
      "File \u001b[1;32m~\\anaconda3\\Lib\\site-packages\\selenium\\webdriver\\remote\\webelement.py:94\u001b[0m, in \u001b[0;36mWebElement.click\u001b[1;34m(self)\u001b[0m\n\u001b[0;32m     92\u001b[0m \u001b[38;5;28;01mdef\u001b[39;00m \u001b[38;5;21mclick\u001b[39m(\u001b[38;5;28mself\u001b[39m) \u001b[38;5;241m-\u001b[39m\u001b[38;5;241m>\u001b[39m \u001b[38;5;28;01mNone\u001b[39;00m:\n\u001b[0;32m     93\u001b[0m \u001b[38;5;250m    \u001b[39m\u001b[38;5;124;03m\"\"\"Clicks the element.\"\"\"\u001b[39;00m\n\u001b[1;32m---> 94\u001b[0m     \u001b[38;5;28mself\u001b[39m\u001b[38;5;241m.\u001b[39m_execute(Command\u001b[38;5;241m.\u001b[39mCLICK_ELEMENT)\n",
      "File \u001b[1;32m~\\anaconda3\\Lib\\site-packages\\selenium\\webdriver\\remote\\webelement.py:395\u001b[0m, in \u001b[0;36mWebElement._execute\u001b[1;34m(self, command, params)\u001b[0m\n\u001b[0;32m    393\u001b[0m     params \u001b[38;5;241m=\u001b[39m {}\n\u001b[0;32m    394\u001b[0m params[\u001b[38;5;124m\"\u001b[39m\u001b[38;5;124mid\u001b[39m\u001b[38;5;124m\"\u001b[39m] \u001b[38;5;241m=\u001b[39m \u001b[38;5;28mself\u001b[39m\u001b[38;5;241m.\u001b[39m_id\n\u001b[1;32m--> 395\u001b[0m \u001b[38;5;28;01mreturn\u001b[39;00m \u001b[38;5;28mself\u001b[39m\u001b[38;5;241m.\u001b[39m_parent\u001b[38;5;241m.\u001b[39mexecute(command, params)\n",
      "File \u001b[1;32m~\\anaconda3\\Lib\\site-packages\\selenium\\webdriver\\remote\\webdriver.py:384\u001b[0m, in \u001b[0;36mWebDriver.execute\u001b[1;34m(self, driver_command, params)\u001b[0m\n\u001b[0;32m    382\u001b[0m response \u001b[38;5;241m=\u001b[39m \u001b[38;5;28mself\u001b[39m\u001b[38;5;241m.\u001b[39mcommand_executor\u001b[38;5;241m.\u001b[39mexecute(driver_command, params)\n\u001b[0;32m    383\u001b[0m \u001b[38;5;28;01mif\u001b[39;00m response:\n\u001b[1;32m--> 384\u001b[0m     \u001b[38;5;28mself\u001b[39m\u001b[38;5;241m.\u001b[39merror_handler\u001b[38;5;241m.\u001b[39mcheck_response(response)\n\u001b[0;32m    385\u001b[0m     response[\u001b[38;5;124m\"\u001b[39m\u001b[38;5;124mvalue\u001b[39m\u001b[38;5;124m\"\u001b[39m] \u001b[38;5;241m=\u001b[39m \u001b[38;5;28mself\u001b[39m\u001b[38;5;241m.\u001b[39m_unwrap_value(response\u001b[38;5;241m.\u001b[39mget(\u001b[38;5;124m\"\u001b[39m\u001b[38;5;124mvalue\u001b[39m\u001b[38;5;124m\"\u001b[39m, \u001b[38;5;28;01mNone\u001b[39;00m))\n\u001b[0;32m    386\u001b[0m     \u001b[38;5;28;01mreturn\u001b[39;00m response\n",
      "File \u001b[1;32m~\\anaconda3\\Lib\\site-packages\\selenium\\webdriver\\remote\\errorhandler.py:232\u001b[0m, in \u001b[0;36mErrorHandler.check_response\u001b[1;34m(self, response)\u001b[0m\n\u001b[0;32m    230\u001b[0m         alert_text \u001b[38;5;241m=\u001b[39m value[\u001b[38;5;124m\"\u001b[39m\u001b[38;5;124malert\u001b[39m\u001b[38;5;124m\"\u001b[39m]\u001b[38;5;241m.\u001b[39mget(\u001b[38;5;124m\"\u001b[39m\u001b[38;5;124mtext\u001b[39m\u001b[38;5;124m\"\u001b[39m)\n\u001b[0;32m    231\u001b[0m     \u001b[38;5;28;01mraise\u001b[39;00m exception_class(message, screen, stacktrace, alert_text)  \u001b[38;5;66;03m# type: ignore[call-arg]  # mypy is not smart enough here\u001b[39;00m\n\u001b[1;32m--> 232\u001b[0m \u001b[38;5;28;01mraise\u001b[39;00m exception_class(message, screen, stacktrace)\n",
      "\u001b[1;31mStaleElementReferenceException\u001b[0m: Message: stale element reference: stale element not found\n  (Session info: chrome=131.0.6778.86); For documentation on this error, please visit: https://www.selenium.dev/documentation/webdriver/troubleshooting/errors#stale-element-reference-exception\nStacktrace:\n\tGetHandleVerifier [0x00007FF6D0A16CB5+28821]\n\t(No symbol) [0x00007FF6D0983840]\n\t(No symbol) [0x00007FF6D082578A]\n\t(No symbol) [0x00007FF6D0839D94]\n\t(No symbol) [0x00007FF6D0838844]\n\t(No symbol) [0x00007FF6D082CF91]\n\t(No symbol) [0x00007FF6D082ADB5]\n\t(No symbol) [0x00007FF6D082EFCC]\n\t(No symbol) [0x00007FF6D082F09F]\n\t(No symbol) [0x00007FF6D087B34B]\n\t(No symbol) [0x00007FF6D086CA96]\n\t(No symbol) [0x00007FF6D089F2FA]\n\t(No symbol) [0x00007FF6D086C3F6]\n\t(No symbol) [0x00007FF6D089F510]\n\t(No symbol) [0x00007FF6D08BF412]\n\t(No symbol) [0x00007FF6D089F0A3]\n\t(No symbol) [0x00007FF6D086A778]\n\t(No symbol) [0x00007FF6D086B8E1]\n\tGetHandleVerifier [0x00007FF6D0D4FCAD+3408013]\n\tGetHandleVerifier [0x00007FF6D0D6741F+3504127]\n\tGetHandleVerifier [0x00007FF6D0D5B5FD+3455453]\n\tGetHandleVerifier [0x00007FF6D0ADBDBB+835995]\n\t(No symbol) [0x00007FF6D098EB5F]\n\t(No symbol) [0x00007FF6D098A814]\n\t(No symbol) [0x00007FF6D098A9AD]\n\t(No symbol) [0x00007FF6D097A199]\n\tBaseThreadInitThunk [0x00007FFF7548259D+29]\n\tRtlUserThreadStart [0x00007FFF7616AF38+40]\n"
     ]
    }
   ],
   "source": [
    "btn.click()"
   ]
  },
  {
   "cell_type": "code",
   "execution_count": 45,
   "id": "d5963098-a2ca-48d1-ab6a-7175cb93afe2",
   "metadata": {},
   "outputs": [],
   "source": [
    "driver.quit()"
   ]
  }
 ],
 "metadata": {
  "kernelspec": {
   "display_name": "Python 3 (ipykernel)",
   "language": "python",
   "name": "python3"
  },
  "language_info": {
   "codemirror_mode": {
    "name": "ipython",
    "version": 3
   },
   "file_extension": ".py",
   "mimetype": "text/x-python",
   "name": "python",
   "nbconvert_exporter": "python",
   "pygments_lexer": "ipython3",
   "version": "3.12.7"
  }
 },
 "nbformat": 4,
 "nbformat_minor": 5
}
