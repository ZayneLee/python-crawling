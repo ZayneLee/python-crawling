{
 "cells": [
  {
   "cell_type": "code",
   "execution_count": 1,
   "id": "dae17147-4ec2-4b7a-b081-a3b17f540843",
   "metadata": {},
   "outputs": [],
   "source": [
    "from selenium import webdriver as wb\n",
    "from bs4 import BeautifulSoup as bs\n",
    "from selenium.webdriver.common.by import By\n",
    "import time"
   ]
  },
  {
   "cell_type": "code",
   "execution_count": 59,
   "id": "aaebb083-de47-4831-b28b-f0f2af098117",
   "metadata": {},
   "outputs": [],
   "source": [
    "driver = wb.Chrome()\n",
    "driver.get(\"https://map.kakao.com/?q=\")"
   ]
  },
  {
   "cell_type": "code",
   "execution_count": 60,
   "id": "5c60474d-8731-48c3-a8ee-895a14951ab7",
   "metadata": {},
   "outputs": [],
   "source": [
    "homeBtn = driver.find_element(By.CSS_SELECTOR, \"div.coach_layer.coach_layer_type1\")"
   ]
  },
  {
   "cell_type": "code",
   "execution_count": 61,
   "id": "a1850e67-5883-4eea-b0f0-9bda6b05c9c9",
   "metadata": {},
   "outputs": [],
   "source": [
    "homeBtn.click()"
   ]
  },
  {
   "cell_type": "code",
   "execution_count": 62,
   "id": "f568049a-996f-44dd-a6b3-73bd66a92cd5",
   "metadata": {},
   "outputs": [
    {
     "name": "stderr",
     "output_type": "stream",
     "text": [
      "<>:1: SyntaxWarning: invalid escape sequence '\\.'\n",
      "<>:1: SyntaxWarning: invalid escape sequence '\\.'\n",
      "C:\\Users\\star1\\AppData\\Local\\Temp\\ipykernel_144808\\1724511833.py:1: SyntaxWarning: invalid escape sequence '\\.'\n",
      "  search = driver.find_element(By.CSS_SELECTOR, \"#search\\.keyword\\.query\")\n"
     ]
    }
   ],
   "source": [
    "search = driver.find_element(By.CSS_SELECTOR, \"#search\\.keyword\\.query\")"
   ]
  },
  {
   "cell_type": "code",
   "execution_count": 63,
   "id": "9ea528f3-d4d9-4b60-bffc-d9ad3c23a542",
   "metadata": {},
   "outputs": [],
   "source": [
    "search.send_keys(\"광주맛집\")"
   ]
  },
  {
   "cell_type": "code",
   "execution_count": 64,
   "id": "2a1e8573-0c6b-45e7-b8a3-ebaa7daea652",
   "metadata": {},
   "outputs": [
    {
     "name": "stderr",
     "output_type": "stream",
     "text": [
      "<>:1: SyntaxWarning: invalid escape sequence '\\.'\n",
      "<>:1: SyntaxWarning: invalid escape sequence '\\.'\n",
      "C:\\Users\\star1\\AppData\\Local\\Temp\\ipykernel_144808\\3725988115.py:1: SyntaxWarning: invalid escape sequence '\\.'\n",
      "  searchBtn = driver.find_element(By.CSS_SELECTOR, \"#search\\.keyword\\.submit\")\n"
     ]
    }
   ],
   "source": [
    "searchBtn = driver.find_element(By.CSS_SELECTOR, \"#search\\.keyword\\.submit\")"
   ]
  },
  {
   "cell_type": "code",
   "execution_count": 65,
   "id": "f5b0fc5b-c168-4855-a7c6-174ba910c2c2",
   "metadata": {
    "scrolled": true
   },
   "outputs": [],
   "source": [
    "searchBtn.click()"
   ]
  },
  {
   "cell_type": "code",
   "execution_count": 49,
   "id": "83f37af5-f8e9-483f-be27-8c2279004c90",
   "metadata": {},
   "outputs": [],
   "source": [
    "soup = bs(driver.page_source, \"lxml\")"
   ]
  },
  {
   "cell_type": "code",
   "execution_count": 50,
   "id": "76b5b4f9-c1ff-4da6-9acf-404b98e580c4",
   "metadata": {},
   "outputs": [],
   "source": [
    "title = soup.select(\"a.link_name\")"
   ]
  },
  {
   "cell_type": "code",
   "execution_count": 51,
   "id": "b549ca45-93b4-4983-ac19-8077e41e3dc5",
   "metadata": {
    "collapsed": true,
    "jupyter": {
     "outputs_hidden": true
    },
    "scrolled": true
   },
   "outputs": [
    {
     "name": "stdout",
     "output_type": "stream",
     "text": [
      "광주맛집\n",
      "광주맛집 소신식당\n",
      "광주휴대폰맛집\n",
      "광주한우맛집 소신정육점\n",
      "오빠통닭 광주맛집풍향점\n",
      "광주맛집효심싸닭갈비\n",
      "루프탑비어소주호프 바베큐광주서구맛집\n",
      "광주누수맛집 라이동합설비\n",
      "거진항맛집코다리네 광주본점\n",
      "전통맛집할매순대국 광주초월점\n",
      "전통맛집할매순대국 광주태전점\n",
      "전통맛집할매순대국 광주오포문형점\n",
      "과일담은요거트맛집요맛 광주경안점\n",
      "동네맛집뼈구이집 광주첨단점\n",
      "광주식당\n"
     ]
    }
   ],
   "source": [
    "for i in title : \n",
    "    print(i.text)"
   ]
  },
  {
   "cell_type": "code",
   "execution_count": 66,
   "id": "98b1c5fd-75a4-4585-a324-c804ba196307",
   "metadata": {},
   "outputs": [
    {
     "name": "stderr",
     "output_type": "stream",
     "text": [
      "<>:1: SyntaxWarning: invalid escape sequence '\\.'\n",
      "<>:1: SyntaxWarning: invalid escape sequence '\\.'\n",
      "C:\\Users\\star1\\AppData\\Local\\Temp\\ipykernel_144808\\4112288509.py:1: SyntaxWarning: invalid escape sequence '\\.'\n",
      "  moreBtn = driver.find_element(By.CSS_SELECTOR, \"#info\\.search\\.place\\.more\")\n"
     ]
    }
   ],
   "source": [
    "moreBtn = driver.find_element(By.CSS_SELECTOR, \"#info\\.search\\.place\\.more\")"
   ]
  },
  {
   "cell_type": "code",
   "execution_count": 67,
   "id": "88be8da1-dde2-4c10-acae-d6147d954bea",
   "metadata": {},
   "outputs": [],
   "source": [
    "moreBtn.click()"
   ]
  },
  {
   "cell_type": "code",
   "execution_count": 71,
   "id": "eb31afad-78eb-4f5d-889d-c3bf98c770ef",
   "metadata": {},
   "outputs": [
    {
     "name": "stderr",
     "output_type": "stream",
     "text": [
      "<>:1: SyntaxWarning: invalid escape sequence '\\.'\n",
      "<>:1: SyntaxWarning: invalid escape sequence '\\.'\n",
      "C:\\Users\\star1\\AppData\\Local\\Temp\\ipykernel_144808\\2113495395.py:1: SyntaxWarning: invalid escape sequence '\\.'\n",
      "  pages = driver.find_elements(By.CSS_SELECTOR, \"#info\\.search\\.page > div > a\")\n"
     ]
    }
   ],
   "source": [
    "pages = driver.find_elements(By.CSS_SELECTOR, \"#info\\.search\\.page > div > a\")"
   ]
  },
  {
   "cell_type": "code",
   "execution_count": 69,
   "id": "edbf34ac-2d0d-42e2-b967-e3368653b18e",
   "metadata": {},
   "outputs": [
    {
     "name": "stderr",
     "output_type": "stream",
     "text": [
      "<>:1: SyntaxWarning: invalid escape sequence '\\.'\n",
      "<>:1: SyntaxWarning: invalid escape sequence '\\.'\n",
      "C:\\Users\\star1\\AppData\\Local\\Temp\\ipykernel_144808\\3792251488.py:1: SyntaxWarning: invalid escape sequence '\\.'\n",
      "  driver.find_element(By.CSS_SELECTOR, \"#info\\.search\\.page\\.next\").click()\n"
     ]
    }
   ],
   "source": [
    "driver.find_element(By.CSS_SELECTOR, \"#info\\.search\\.page\\.next\").click()"
   ]
  },
  {
   "cell_type": "code",
   "execution_count": null,
   "id": "b8d5feee-854a-41cc-949b-7cc5ef53533d",
   "metadata": {},
   "outputs": [
    {
     "name": "stderr",
     "output_type": "stream",
     "text": [
      "<>:12: SyntaxWarning: invalid escape sequence '\\.'\n",
      "<>:12: SyntaxWarning: invalid escape sequence '\\.'\n",
      "C:\\Users\\star1\\AppData\\Local\\Temp\\ipykernel_144808\\2936915941.py:12: SyntaxWarning: invalid escape sequence '\\.'\n",
      "  driver.find_element(By.CSS_SELECTOR, \"#info\\.search\\.page\\.next\").click()\n"
     ]
    },
    {
     "name": "stdout",
     "output_type": "stream",
     "text": [
      "광주순대전통집\n",
      "도시락반장 광주본점\n",
      "광주먹자집\n",
      "희연이네맛집\n",
      "광주식당\n",
      "예담은광주떡집\n",
      "빽다방 경기광주 이마트점\n",
      "삼각동맛집, 풀마운틴 파이불고기\n",
      "고깃간맛집 첨단본점\n",
      "아모하임 광주점\n",
      "광주바다수산\n",
      "별꽃경광주꽃\n",
      "계절따라남도맛집\n",
      "광주식당\n",
      "신깡통뒷고기 광주금호점\n",
      "꺼꾸잽이초장집광주송정점\n",
      "남광주수산물\n",
      "광주우가네순대국\n",
      "산수골맛집\n",
      "남광주감자탕\n",
      "광주식당\n",
      "광주연세산업\n",
      "계절맛집\n",
      "남도맛집지원협동조합\n",
      "강릉에서 추천하는 맛집 찹쌀꽈배기 핫도그 도척점\n",
      "맛집튀김1번가\n",
      "광주전집\n",
      "추천맛집명품수제돈까스 초월본점\n",
      "맛집반찬\n",
      "광주닭집\n",
      "광주돼지집\n",
      "능이맛집\n",
      "광주한방꽃차소믈리에\n",
      "농가레스토랑 궁뜰(광주점)\n",
      "광주식당\n",
      "광주정육점식당\n",
      "제주선채향 광주일곡점\n",
      "꼬꼬맛집\n",
      "맛집\n",
      "광주공원\n",
      "광주FM라디오카페\n",
      "광주가마솥닭강정\n",
      "광주무카타\n",
      "맛집김치찌개뼈해장국\n",
      "중흥골맛집\n",
      "광주옥식당\n",
      "아라쌈 광주쌍촌점\n",
      "초밥대통령 광주장덕점\n",
      "고향의맛집\n",
      "광주집순대국\n",
      "와따탕후루광주양벌점\n",
      "광주집\n",
      "백번가코다리(광주본점)\n",
      "광주회쎈타\n",
      "광주식당\n",
      "노포맛집\n",
      "뻘순이네맛집\n",
      "계절맛집\n",
      "꼬로록맛집\n",
      "광주집\n",
      "광주북구일터지역자활센터쥬스앤샐러드\n",
      "고향의맛집\n",
      "광주아나고\n",
      "낭만맛집\n",
      "광주식당\n",
      "광주닭집\n",
      "신세계백화점광주점 푸드플라자\n",
      "선술집광주\n",
      "원조 전라도광주여수횟집\n",
      "떡밀밀 광주태전점\n",
      "전라도광주시골통닭본점 &멕시칸치킨\n",
      "은하맛집\n",
      "흥부네맛집\n",
      "와이블랙 광주송정점\n",
      "쥬씨 광주퇴촌점\n",
      "전라도광주밥상 광주무등횟집\n",
      "파주닭국수경기광주점\n",
      "청담계절맛집\n",
      "광주횟집\n",
      "홀리데이인광주호텔 라플레이스 그릴&바\n",
      "육식사관학교 광주동구점\n",
      "운동장맛집\n",
      "광주문화전당 역구시청라온\n",
      "초록테이블 광주본점\n",
      "광주등심 (휴업중)\n",
      "광주남구지역자활센터 너두나두호두\n",
      "광주한국병원 식당\n",
      "허산골맛집\n",
      "광주상추튀김\n",
      "국립광주과학관 카페\n",
      "광주북구희망지역자활센터(커피드림)\n",
      "맛집황금터\n",
      "광주대성학원 구내식당\n",
      "함평맛집\n",
      "광주찌개전문\n",
      "광주누수탐정\n",
      "베스킨라빈스 광주백운점\n",
      "임펄스커피 광주상무점\n",
      "광주회집\n",
      "광주상회\n",
      "뉴요커피자 광주금호점\n",
      "광주통닭\n",
      "정가득광주본가\n",
      "유촌맛집\n",
      "광주아구찜.탕\n",
      "수화계절맛집\n",
      "카페드크래프트 광주상무점\n",
      "광주식당\n",
      "광주교회 식당\n",
      "광주식당\n",
      "광주기아챔피언스필드 푸드코트\n",
      "동림맛집\n",
      "맛집24시\n",
      "국수맛집\n",
      "광주식당\n",
      "광주지방검찰청 희망카페\n",
      "광주커피\n",
      "광주식당\n",
      "신은정광주소머리국밥\n",
      "광주집\n",
      "쇼니네네일맛집\n",
      "과일담은요거트맛집요맛 북구점\n",
      "광주야참\n",
      "요커(yo.kr)광주 충장점\n",
      "광주식당\n",
      "광주식당\n",
      "광주국밥\n",
      "광주 쑥 좌훈카페\n",
      "하자계절맛집\n",
      "국민맛집추어탕전문점\n",
      "계절따라남도도맛집\n",
      "광주생오리 돌구이전문 감일점\n",
      "광주북구희망지역자활센터 커피드림\n",
      "광주식당\n",
      "광주식당\n",
      "광주소맥방\n",
      "꽈백최선생경기광주점\n",
      "광주범죄피해자 지원센터희망카페\n",
      "광주포차\n",
      "광주벧엘교회 식당\n",
      "신전떡볶이광주지사\n",
      "전라도광주집\n",
      "광주함평호남횟집\n",
      "에스피씨지에프에스쿠팡물류광주2센터카페\n",
      "전라도광주집\n",
      "광주진국밥\n",
      "맛집멋집퓨전호프\n",
      "광주식당\n",
      "광주사철탕삼계탕\n",
      "흥부찜닭삼겹본능공수간경기광주 초월점\n"
     ]
    }
   ],
   "source": [
    "try :\n",
    "    while True :\n",
    "        for i in range(6) :\n",
    "            if (i < 5) :\n",
    "                pages[i].click()\n",
    "                time.sleep(2)\n",
    "                soup = bs(driver.page_source, \"lxml\")\n",
    "                title = soup.select(\"a.link_name\")\n",
    "                for i in title : \n",
    "                    print(i.text)\n",
    "            else :\n",
    "                driver.find_element(By.CSS_SELECTOR, \"#info\\.search\\.page\\.next\").click()\n",
    "except :\n",
    "    print(\"자료 수집이 완료 되었습니다.\")"
   ]
  }
 ],
 "metadata": {
  "kernelspec": {
   "display_name": "Python 3 (ipykernel)",
   "language": "python",
   "name": "python3"
  },
  "language_info": {
   "codemirror_mode": {
    "name": "ipython",
    "version": 3
   },
   "file_extension": ".py",
   "mimetype": "text/x-python",
   "name": "python",
   "nbconvert_exporter": "python",
   "pygments_lexer": "ipython3",
   "version": "3.12.7"
  }
 },
 "nbformat": 4,
 "nbformat_minor": 5
}
