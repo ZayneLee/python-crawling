{
 "cells": [
  {
   "cell_type": "code",
   "execution_count": 4,
   "id": "dae17147-4ec2-4b7a-b081-a3b17f540843",
   "metadata": {},
   "outputs": [],
   "source": [
    "from selenium import webdriver as wb\n",
    "from bs4 import BeautifulSoup as bs\n",
    "from selenium.webdriver.common.by import By\n",
    "import time"
   ]
  },
  {
   "cell_type": "code",
   "execution_count": 3,
   "id": "aaebb083-de47-4831-b28b-f0f2af098117",
   "metadata": {},
   "outputs": [],
   "source": [
    "driver = wb.Chrome()\n",
    "driver.get(\"https://map.kakao.com/?q=\")"
   ]
  },
  {
   "cell_type": "code",
   "execution_count": 6,
   "id": "f568049a-996f-44dd-a6b3-73bd66a92cd5",
   "metadata": {},
   "outputs": [
    {
     "name": "stderr",
     "output_type": "stream",
     "text": [
      "<>:1: SyntaxWarning: invalid escape sequence '\\.'\n",
      "<>:1: SyntaxWarning: invalid escape sequence '\\.'\n",
      "C:\\Users\\star1\\AppData\\Local\\Temp\\ipykernel_104980\\1724511833.py:1: SyntaxWarning: invalid escape sequence '\\.'\n",
      "  search = driver.find_element(By.CSS_SELECTOR, \"#search\\.keyword\\.query\")\n"
     ]
    }
   ],
   "source": [
    "search = driver.find_element(By.CSS_SELECTOR, \"#search\\.keyword\\.query\")"
   ]
  },
  {
   "cell_type": "code",
   "execution_count": 9,
   "id": "9ea528f3-d4d9-4b60-bffc-d9ad3c23a542",
   "metadata": {},
   "outputs": [],
   "source": [
    "search.send_keys(\"광주맛집\")"
   ]
  },
  {
   "cell_type": "code",
   "execution_count": 10,
   "id": "2a1e8573-0c6b-45e7-b8a3-ebaa7daea652",
   "metadata": {},
   "outputs": [
    {
     "name": "stderr",
     "output_type": "stream",
     "text": [
      "<>:1: SyntaxWarning: invalid escape sequence '\\.'\n",
      "<>:1: SyntaxWarning: invalid escape sequence '\\.'\n",
      "C:\\Users\\star1\\AppData\\Local\\Temp\\ipykernel_104980\\3725988115.py:1: SyntaxWarning: invalid escape sequence '\\.'\n",
      "  searchBtn = driver.find_element(By.CSS_SELECTOR, \"#search\\.keyword\\.submit\")\n"
     ]
    }
   ],
   "source": [
    "searchBtn = driver.find_element(By.CSS_SELECTOR, \"#search\\.keyword\\.submit\")"
   ]
  },
  {
   "cell_type": "code",
   "execution_count": 12,
   "id": "f5b0fc5b-c168-4855-a7c6-174ba910c2c2",
   "metadata": {},
   "outputs": [],
   "source": [
    "searchBtn.click()"
   ]
  },
  {
   "cell_type": "code",
   "execution_count": 13,
   "id": "83f37af5-f8e9-483f-be27-8c2279004c90",
   "metadata": {},
   "outputs": [],
   "source": [
    "soup = bs(driver.page_source, \"lxml\")"
   ]
  },
  {
   "cell_type": "code",
   "execution_count": 15,
   "id": "76b5b4f9-c1ff-4da6-9acf-404b98e580c4",
   "metadata": {},
   "outputs": [],
   "source": [
    "title = soup.select(\"a.link_name\")"
   ]
  },
  {
   "cell_type": "code",
   "execution_count": 17,
   "id": "b549ca45-93b4-4983-ac19-8077e41e3dc5",
   "metadata": {},
   "outputs": [
    {
     "name": "stdout",
     "output_type": "stream",
     "text": [
      "광주맛집\n",
      "광주맛집 소신식당\n",
      "광주휴대폰맛집\n",
      "광주한우맛집 소신정육점\n",
      "오빠통닭 광주맛집풍향점\n",
      "광주맛집효심싸닭갈비\n",
      "루프탑비어소주호프 바베큐광주서구맛집\n",
      "광주누수맛집 라이동합설비\n",
      "거진항맛집코다리네 광주본점\n",
      "전통맛집할매순대국 광주초월점\n",
      "전통맛집할매순대국 광주태전점\n",
      "과일담은요거트맛집요맛 광주경안점\n",
      "전통맛집할매순대국 광주오포문형점\n",
      "동네맛집뼈구이집 광주첨단점\n",
      "광주식당\n"
     ]
    }
   ],
   "source": [
    "for i in title : \n",
    "    print(i.text)"
   ]
  },
  {
   "cell_type": "code",
   "execution_count": null,
   "id": "f9388f88-c458-45f3-86e0-8ace46843fd6",
   "metadata": {},
   "outputs": [],
   "source": []
  }
 ],
 "metadata": {
  "kernelspec": {
   "display_name": "Python 3 (ipykernel)",
   "language": "python",
   "name": "python3"
  },
  "language_info": {
   "codemirror_mode": {
    "name": "ipython",
    "version": 3
   },
   "file_extension": ".py",
   "mimetype": "text/x-python",
   "name": "python",
   "nbconvert_exporter": "python",
   "pygments_lexer": "ipython3",
   "version": "3.12.7"
  }
 },
 "nbformat": 4,
 "nbformat_minor": 5
}
