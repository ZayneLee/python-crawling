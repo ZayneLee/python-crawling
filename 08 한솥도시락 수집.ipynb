{
 "cells": [
  {
   "cell_type": "code",
   "execution_count": 1,
   "id": "f701a3d9-7d86-4eff-9a08-58f7ac7b48c7",
   "metadata": {},
   "outputs": [],
   "source": [
    "from selenium import webdriver as wb\n",
    "from selenium.webdriver.common.keys import Keys\n",
    "from selenium.webdriver.common.by import By\n",
    "import time\n",
    "import pandas as pd"
   ]
  },
  {
   "cell_type": "code",
   "execution_count": 2,
   "id": "816350ea-e238-4752-9ef3-d27bd36851aa",
   "metadata": {},
   "outputs": [],
   "source": [
    "driver = wb.Chrome()\n",
    "driver.get(\"https://www.hsd.co.kr/\")"
   ]
  },
  {
   "cell_type": "code",
   "execution_count": 3,
   "id": "d90846a6-f6e7-473f-b7b0-84188fb85fc4",
   "metadata": {},
   "outputs": [],
   "source": [
    "from selenium.webdriver.common.action_chains import ActionChains"
   ]
  },
  {
   "cell_type": "code",
   "execution_count": 12,
   "id": "9ccaaf29-cf6f-401f-abb9-4a22d64ef661",
   "metadata": {},
   "outputs": [],
   "source": [
    "elm_hover = driver.find_element(By.CSS_SELECTOR, \"#gnb > div.gnb_menu > ul > li:nth-child(3) > p > a\")\n",
    "elm_click = driver.find_element(By.CSS_SELECTOR, \"#gnb > div.gnb_menu > ul > li:nth-child(3) > div > ul > li:nth-child(1) > a\")"
   ]
  },
  {
   "cell_type": "code",
   "execution_count": 13,
   "id": "62112642-84c0-4637-85b7-714e73a930ab",
   "metadata": {},
   "outputs": [],
   "source": [
    "actions = ActionChains(driver)\n",
    "actions.move_to_element(elm_hover)\n",
    "actions.click(elm_click)\n",
    "actions.perform()"
   ]
  },
  {
   "cell_type": "code",
   "execution_count": null,
   "id": "63242225-f518-465b-80ee-652c9baab9a1",
   "metadata": {},
   "outputs": [],
   "source": [
    "btn = driver.find_element(By.CSS_SELECTOR, \"a.c_05\")\n",
    "btn.click()"
   ]
  },
  {
   "cell_type": "code",
   "execution_count": 30,
   "id": "971c57de-c7a6-4dbd-a4bf-85fbbdb1c5a4",
   "metadata": {},
   "outputs": [
    {
     "name": "stdout",
     "output_type": "stream",
     "text": [
      "더보기가 없습니다\n"
     ]
    }
   ],
   "source": [
    "try :\n",
    "    for i in range(10):\n",
    "        btn = driver.find_element(By.CSS_SELECTOR, \"a.c_05\")\n",
    "        btn.click()\n",
    "        time.sleep(2)\n",
    "except :\n",
    "    print(\"더보기가 없습니다\")"
   ]
  },
  {
   "cell_type": "code",
   "execution_count": 31,
   "id": "c1ca85f5-5d2f-47d1-880e-5ebe50639893",
   "metadata": {},
   "outputs": [],
   "source": [
    "title = driver.find_elements(By.CSS_SELECTOR, \"h4.h.fz_03\")"
   ]
  },
  {
   "cell_type": "code",
   "execution_count": 33,
   "id": "464ed8bb-3b6c-4372-ac5e-97305827a00a",
   "metadata": {},
   "outputs": [
    {
     "data": {
      "text/plain": [
       "'소불고기 청양크림 파스타'"
      ]
     },
     "execution_count": 33,
     "metadata": {},
     "output_type": "execute_result"
    }
   ],
   "source": [
    "title[0].text"
   ]
  },
  {
   "cell_type": "code",
   "execution_count": 34,
   "id": "4c8859cc-8099-4f0a-aba4-3c1ad490dc3f",
   "metadata": {},
   "outputs": [],
   "source": [
    "price = driver.find_elements(By.CSS_SELECTOR, \"div.item-price > strong\")"
   ]
  },
  {
   "cell_type": "code",
   "execution_count": 39,
   "id": "6a8babea-c822-4862-9e11-0858f26fc537",
   "metadata": {},
   "outputs": [
    {
     "data": {
      "text/plain": [
       "'6,500'"
      ]
     },
     "execution_count": 39,
     "metadata": {},
     "output_type": "execute_result"
    }
   ],
   "source": [
    "price[0].text"
   ]
  },
  {
   "cell_type": "code",
   "execution_count": 40,
   "id": "7fc5ec29-8332-4af7-b5ae-c5f151c05637",
   "metadata": {},
   "outputs": [],
   "source": [
    "titleList = []\n",
    "priceList = []\n",
    "for i in range(len(title)) :\n",
    "    titleList.append(title[i].text)\n",
    "    priceList.append(price[i].text)"
   ]
  },
  {
   "cell_type": "code",
   "execution_count": 41,
   "id": "3ceafefd-7083-4876-afba-ea8dbad59229",
   "metadata": {},
   "outputs": [],
   "source": [
    "data = {\"메뉴명\" : titleList, \"가격\" : priceList}"
   ]
  },
  {
   "cell_type": "code",
   "execution_count": 44,
   "id": "a3ebb59d-1e28-49e2-9344-9e7aed0957f2",
   "metadata": {},
   "outputs": [],
   "source": [
    "food = pd.DataFrame(data)"
   ]
  },
  {
   "cell_type": "code",
   "execution_count": 45,
   "id": "91155903-de6d-47b2-9bd5-f3d401fc02b6",
   "metadata": {},
   "outputs": [],
   "source": [
    "food.to_csv(\"한솥.csv\", encoding = \"EUC-KR\")"
   ]
  }
 ],
 "metadata": {
  "kernelspec": {
   "display_name": "Python 3 (ipykernel)",
   "language": "python",
   "name": "python3"
  },
  "language_info": {
   "codemirror_mode": {
    "name": "ipython",
    "version": 3
   },
   "file_extension": ".py",
   "mimetype": "text/x-python",
   "name": "python",
   "nbconvert_exporter": "python",
   "pygments_lexer": "ipython3",
   "version": "3.12.7"
  }
 },
 "nbformat": 4,
 "nbformat_minor": 5
}
