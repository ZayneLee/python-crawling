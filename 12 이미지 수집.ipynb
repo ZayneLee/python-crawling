{
 "cells": [
  {
   "cell_type": "code",
   "execution_count": 2,
   "id": "d65ad396-f6aa-4588-8ef0-12e836bfb61d",
   "metadata": {},
   "outputs": [],
   "source": [
    "from selenium import webdriver as wb\n",
    "from selenium.webdriver.common.keys import Keys\n",
    "from selenium.webdriver.common.by import By\n",
    "import time\n",
    "import os\n",
    "from urllib.request import urlretrieve"
   ]
  },
  {
   "cell_type": "code",
   "execution_count": 14,
   "id": "3f68a650-5b15-4cff-a7dc-5acc840e3d27",
   "metadata": {},
   "outputs": [],
   "source": [
    "driver = wb.Chrome()\n",
    "driver.get(\"https://www.naver.com/\")"
   ]
  },
  {
   "cell_type": "code",
   "execution_count": 21,
   "id": "95ca7f43-fc9e-40db-b999-cff3331e10e5",
   "metadata": {},
   "outputs": [],
   "source": [
    "search = driver.find_element(By.CSS_SELECTOR, \"#query\")"
   ]
  },
  {
   "cell_type": "code",
   "execution_count": 22,
   "id": "3aadd911-c180-4347-8863-392808706e31",
   "metadata": {},
   "outputs": [],
   "source": [
    "search.send_keys(\"손흥민\")"
   ]
  },
  {
   "cell_type": "code",
   "execution_count": 23,
   "id": "eb6c4968-bae6-4590-8e95-37413f80ee2d",
   "metadata": {},
   "outputs": [],
   "source": [
    "search.send_keys(Keys.ENTER)"
   ]
  },
  {
   "cell_type": "code",
   "execution_count": 8,
   "id": "72483c48-c8e4-49c2-a7da-274344f78d30",
   "metadata": {},
   "outputs": [],
   "source": [
    "searchBtn = driver.find_element(By.CSS_SELECTOR, \"#search-btn\")"
   ]
  },
  {
   "cell_type": "code",
   "execution_count": 10,
   "id": "9e124fb5-e5d9-4ffc-89cf-78f62186889a",
   "metadata": {
    "scrolled": true
   },
   "outputs": [
    {
     "ename": "StaleElementReferenceException",
     "evalue": "Message: stale element reference: stale element not found\n  (Session info: chrome=131.0.6778.109); For documentation on this error, please visit: https://www.selenium.dev/documentation/webdriver/troubleshooting/errors#stale-element-reference-exception\nStacktrace:\n\tGetHandleVerifier [0x00007FF658DB6CB5+28821]\n\t(No symbol) [0x00007FF658D23840]\n\t(No symbol) [0x00007FF658BC578A]\n\t(No symbol) [0x00007FF658BD9D94]\n\t(No symbol) [0x00007FF658BD8844]\n\t(No symbol) [0x00007FF658BCCF91]\n\t(No symbol) [0x00007FF658BCADB5]\n\t(No symbol) [0x00007FF658BCEFCC]\n\t(No symbol) [0x00007FF658BCF09F]\n\t(No symbol) [0x00007FF658C1B34B]\n\t(No symbol) [0x00007FF658C0CA96]\n\t(No symbol) [0x00007FF658C3F2FA]\n\t(No symbol) [0x00007FF658C0C3F6]\n\t(No symbol) [0x00007FF658C3F510]\n\t(No symbol) [0x00007FF658C5F412]\n\t(No symbol) [0x00007FF658C3F0A3]\n\t(No symbol) [0x00007FF658C0A778]\n\t(No symbol) [0x00007FF658C0B8E1]\n\tGetHandleVerifier [0x00007FF6590EFCAD+3408013]\n\tGetHandleVerifier [0x00007FF65910741F+3504127]\n\tGetHandleVerifier [0x00007FF6590FB5FD+3455453]\n\tGetHandleVerifier [0x00007FF658E7BDBB+835995]\n\t(No symbol) [0x00007FF658D2EB5F]\n\t(No symbol) [0x00007FF658D2A814]\n\t(No symbol) [0x00007FF658D2A9AD]\n\t(No symbol) [0x00007FF658D1A199]\n\tBaseThreadInitThunk [0x00007FFF7548259D+29]\n\tRtlUserThreadStart [0x00007FFF7616AF38+40]\n",
     "output_type": "error",
     "traceback": [
      "\u001b[1;31m---------------------------------------------------------------------------\u001b[0m",
      "\u001b[1;31mStaleElementReferenceException\u001b[0m            Traceback (most recent call last)",
      "Cell \u001b[1;32mIn[10], line 1\u001b[0m\n\u001b[1;32m----> 1\u001b[0m searchBtn\u001b[38;5;241m.\u001b[39mclick()\n",
      "File \u001b[1;32m~\\anaconda3\\Lib\\site-packages\\selenium\\webdriver\\remote\\webelement.py:94\u001b[0m, in \u001b[0;36mWebElement.click\u001b[1;34m(self)\u001b[0m\n\u001b[0;32m     92\u001b[0m \u001b[38;5;28;01mdef\u001b[39;00m \u001b[38;5;21mclick\u001b[39m(\u001b[38;5;28mself\u001b[39m) \u001b[38;5;241m-\u001b[39m\u001b[38;5;241m>\u001b[39m \u001b[38;5;28;01mNone\u001b[39;00m:\n\u001b[0;32m     93\u001b[0m \u001b[38;5;250m    \u001b[39m\u001b[38;5;124;03m\"\"\"Clicks the element.\"\"\"\u001b[39;00m\n\u001b[1;32m---> 94\u001b[0m     \u001b[38;5;28mself\u001b[39m\u001b[38;5;241m.\u001b[39m_execute(Command\u001b[38;5;241m.\u001b[39mCLICK_ELEMENT)\n",
      "File \u001b[1;32m~\\anaconda3\\Lib\\site-packages\\selenium\\webdriver\\remote\\webelement.py:395\u001b[0m, in \u001b[0;36mWebElement._execute\u001b[1;34m(self, command, params)\u001b[0m\n\u001b[0;32m    393\u001b[0m     params \u001b[38;5;241m=\u001b[39m {}\n\u001b[0;32m    394\u001b[0m params[\u001b[38;5;124m\"\u001b[39m\u001b[38;5;124mid\u001b[39m\u001b[38;5;124m\"\u001b[39m] \u001b[38;5;241m=\u001b[39m \u001b[38;5;28mself\u001b[39m\u001b[38;5;241m.\u001b[39m_id\n\u001b[1;32m--> 395\u001b[0m \u001b[38;5;28;01mreturn\u001b[39;00m \u001b[38;5;28mself\u001b[39m\u001b[38;5;241m.\u001b[39m_parent\u001b[38;5;241m.\u001b[39mexecute(command, params)\n",
      "File \u001b[1;32m~\\anaconda3\\Lib\\site-packages\\selenium\\webdriver\\remote\\webdriver.py:384\u001b[0m, in \u001b[0;36mWebDriver.execute\u001b[1;34m(self, driver_command, params)\u001b[0m\n\u001b[0;32m    382\u001b[0m response \u001b[38;5;241m=\u001b[39m \u001b[38;5;28mself\u001b[39m\u001b[38;5;241m.\u001b[39mcommand_executor\u001b[38;5;241m.\u001b[39mexecute(driver_command, params)\n\u001b[0;32m    383\u001b[0m \u001b[38;5;28;01mif\u001b[39;00m response:\n\u001b[1;32m--> 384\u001b[0m     \u001b[38;5;28mself\u001b[39m\u001b[38;5;241m.\u001b[39merror_handler\u001b[38;5;241m.\u001b[39mcheck_response(response)\n\u001b[0;32m    385\u001b[0m     response[\u001b[38;5;124m\"\u001b[39m\u001b[38;5;124mvalue\u001b[39m\u001b[38;5;124m\"\u001b[39m] \u001b[38;5;241m=\u001b[39m \u001b[38;5;28mself\u001b[39m\u001b[38;5;241m.\u001b[39m_unwrap_value(response\u001b[38;5;241m.\u001b[39mget(\u001b[38;5;124m\"\u001b[39m\u001b[38;5;124mvalue\u001b[39m\u001b[38;5;124m\"\u001b[39m, \u001b[38;5;28;01mNone\u001b[39;00m))\n\u001b[0;32m    386\u001b[0m     \u001b[38;5;28;01mreturn\u001b[39;00m response\n",
      "File \u001b[1;32m~\\anaconda3\\Lib\\site-packages\\selenium\\webdriver\\remote\\errorhandler.py:232\u001b[0m, in \u001b[0;36mErrorHandler.check_response\u001b[1;34m(self, response)\u001b[0m\n\u001b[0;32m    230\u001b[0m         alert_text \u001b[38;5;241m=\u001b[39m value[\u001b[38;5;124m\"\u001b[39m\u001b[38;5;124malert\u001b[39m\u001b[38;5;124m\"\u001b[39m]\u001b[38;5;241m.\u001b[39mget(\u001b[38;5;124m\"\u001b[39m\u001b[38;5;124mtext\u001b[39m\u001b[38;5;124m\"\u001b[39m)\n\u001b[0;32m    231\u001b[0m     \u001b[38;5;28;01mraise\u001b[39;00m exception_class(message, screen, stacktrace, alert_text)  \u001b[38;5;66;03m# type: ignore[call-arg]  # mypy is not smart enough here\u001b[39;00m\n\u001b[1;32m--> 232\u001b[0m \u001b[38;5;28;01mraise\u001b[39;00m exception_class(message, screen, stacktrace)\n",
      "\u001b[1;31mStaleElementReferenceException\u001b[0m: Message: stale element reference: stale element not found\n  (Session info: chrome=131.0.6778.109); For documentation on this error, please visit: https://www.selenium.dev/documentation/webdriver/troubleshooting/errors#stale-element-reference-exception\nStacktrace:\n\tGetHandleVerifier [0x00007FF658DB6CB5+28821]\n\t(No symbol) [0x00007FF658D23840]\n\t(No symbol) [0x00007FF658BC578A]\n\t(No symbol) [0x00007FF658BD9D94]\n\t(No symbol) [0x00007FF658BD8844]\n\t(No symbol) [0x00007FF658BCCF91]\n\t(No symbol) [0x00007FF658BCADB5]\n\t(No symbol) [0x00007FF658BCEFCC]\n\t(No symbol) [0x00007FF658BCF09F]\n\t(No symbol) [0x00007FF658C1B34B]\n\t(No symbol) [0x00007FF658C0CA96]\n\t(No symbol) [0x00007FF658C3F2FA]\n\t(No symbol) [0x00007FF658C0C3F6]\n\t(No symbol) [0x00007FF658C3F510]\n\t(No symbol) [0x00007FF658C5F412]\n\t(No symbol) [0x00007FF658C3F0A3]\n\t(No symbol) [0x00007FF658C0A778]\n\t(No symbol) [0x00007FF658C0B8E1]\n\tGetHandleVerifier [0x00007FF6590EFCAD+3408013]\n\tGetHandleVerifier [0x00007FF65910741F+3504127]\n\tGetHandleVerifier [0x00007FF6590FB5FD+3455453]\n\tGetHandleVerifier [0x00007FF658E7BDBB+835995]\n\t(No symbol) [0x00007FF658D2EB5F]\n\t(No symbol) [0x00007FF658D2A814]\n\t(No symbol) [0x00007FF658D2A9AD]\n\t(No symbol) [0x00007FF658D1A199]\n\tBaseThreadInitThunk [0x00007FFF7548259D+29]\n\tRtlUserThreadStart [0x00007FFF7616AF38+40]\n"
     ]
    }
   ],
   "source": [
    "searchBtn.click()"
   ]
  },
  {
   "cell_type": "code",
   "execution_count": 24,
   "id": "2b9296c1-bc13-48aa-b9ac-195d4e7d643f",
   "metadata": {},
   "outputs": [],
   "source": [
    "imgBtn = driver.find_element(By.CSS_SELECTOR, \"div.api_flicking_wrap._conveyer_root > div:nth-child(2) > a\")"
   ]
  },
  {
   "cell_type": "code",
   "execution_count": 25,
   "id": "0cea9663-5415-492d-a956-e848a479684e",
   "metadata": {
    "scrolled": true
   },
   "outputs": [],
   "source": [
    "imgBtn.click()"
   ]
  },
  {
   "cell_type": "code",
   "execution_count": 27,
   "id": "2392f336-659b-4041-b994-94a210019984",
   "metadata": {},
   "outputs": [],
   "source": [
    "img = driver.find_elements(By.CSS_SELECTOR, \"img._fe_image_tab_content_thumbnail_image\")"
   ]
  },
  {
   "cell_type": "code",
   "execution_count": 30,
   "id": "f55d9182-d52a-4a57-9d08-c8fd92a734a1",
   "metadata": {},
   "outputs": [
    {
     "data": {
      "text/plain": [
       "'https://search.pstatic.net/common/?src=http%3A%2F%2Fimgnews.naver.net%2Fimage%2F477%2F2024%2F06%2F10%2F0000494947_011_20240610062015373.jpg&type=a340'"
      ]
     },
     "execution_count": 30,
     "metadata": {},
     "output_type": "execute_result"
    }
   ],
   "source": [
    "img[0].get_attribute(\"src\")"
   ]
  },
  {
   "cell_type": "code",
   "execution_count": 32,
   "id": "ea4b3720-0b4f-4845-a6b5-14b782c1b88e",
   "metadata": {},
   "outputs": [],
   "source": [
    "if not os.path.isdir(\"C:/Users/star1/OneDrive/바탕 화면/이미지\") :\n",
    "    os.mkdir(\"C:/Users/star1/OneDrive/바탕 화면/이미지\")"
   ]
  },
  {
   "cell_type": "code",
   "execution_count": 33,
   "id": "7c6e1916-6510-4aba-b0d8-40fc5187709c",
   "metadata": {},
   "outputs": [],
   "source": [
    "imgUrl = []"
   ]
  },
  {
   "cell_type": "code",
   "execution_count": 36,
   "id": "80620bb9-cda9-4828-bf23-bf4267363a38",
   "metadata": {},
   "outputs": [],
   "source": [
    "for i in img :\n",
    "    imgUrl.append(i.get_attribute(\"src\"))"
   ]
  },
  {
   "cell_type": "code",
   "execution_count": 37,
   "id": "9edc560e-39e4-4b68-b25f-a0d8a33ab251",
   "metadata": {
    "collapsed": true,
    "jupyter": {
     "outputs_hidden": true
    }
   },
   "outputs": [
    {
     "data": {
      "text/plain": [
       "['https://search.pstatic.net/common/?src=http%3A%2F%2Fimgnews.naver.net%2Fimage%2F477%2F2024%2F06%2F10%2F0000494947_011_20240610062015373.jpg&type=a340',\n",
       " 'https://search.pstatic.net/common/?src=http%3A%2F%2Fimgnews.naver.net%2Fimage%2F001%2F2024%2F01%2F31%2FPYH2024013100480001300_P4_20240131013307190.jpg&type=a340',\n",
       " 'https://search.pstatic.net/common/?src=http%3A%2F%2Fimgnews.naver.net%2Fimage%2F448%2F2024%2F06%2F19%2F2024061990111_0_20240619152511512.jpg&type=a340',\n",
       " 'https://search.pstatic.net/common/?src=http%3A%2F%2Fimgnews.naver.net%2Fimage%2F214%2F2024%2F05%2F03%2F0001346281_001_20240503060403268.jpg&type=a340',\n",
       " 'https://search.pstatic.net/common/?src=http%3A%2F%2Fimgnews.naver.net%2Fimage%2F421%2F2024%2F01%2F15%2F0007292051_001_20240115203801461.jpg&type=a340',\n",
       " 'https://search.pstatic.net/common/?src=http%3A%2F%2Fimgnews.naver.net%2Fimage%2F448%2F2024%2F10%2F24%2F2024102490254_thumb_094834_20241024215026045.jpg&type=a340',\n",
       " 'https://search.pstatic.net/common/?src=http%3A%2F%2Fimgnews.naver.net%2Fimage%2F005%2F2024%2F11%2F06%2F2024110520170845694_1730805428_1730792733_20241106023307731.jpg&type=a340',\n",
       " 'https://search.pstatic.net/common/?src=http%3A%2F%2Fimgnews.naver.net%2Fimage%2F001%2F2024%2F02%2F14%2FPYH2024021410810001300_P4_20240214135605691.jpg&type=a340',\n",
       " 'https://search.pstatic.net/common/?src=http%3A%2F%2Fimgnews.naver.net%2Fimage%2F5239%2F2024%2F05%2F15%2F951577_image_1_20240515001803550.jpg&type=l340_165',\n",
       " 'https://search.pstatic.net/common/?src=http%3A%2F%2Fimgnews.naver.net%2Fimage%2F119%2F2024%2F09%2F05%2F0002869875_001_20240905221514571.jpg&type=a340',\n",
       " 'https://search.pstatic.net/common/?src=http%3A%2F%2Fimgnews.naver.net%2Fimage%2F477%2F2024%2F10%2F13%2F0000516423_003_20241013061619573.jpg&type=a340',\n",
       " 'https://search.pstatic.net/common/?src=http%3A%2F%2Fimgnews.naver.net%2Fimage%2F5604%2F2024%2F02%2F13%2F0000082059_001_20240213103202391.jpg&type=a340',\n",
       " 'https://search.pstatic.net/common/?src=http%3A%2F%2Fimgnews.naver.net%2Fimage%2F117%2F2024%2F03%2F07%2F0003810897_002_20240307114204614.jpg&type=a340',\n",
       " 'https://search.pstatic.net/common/?src=http%3A%2F%2Fimgnews.naver.net%2Fimage%2F109%2F2024%2F01%2F25%2F0005005731_001_20240125230609908.jpg&type=a340',\n",
       " 'https://search.pstatic.net/common/?src=http%3A%2F%2Fimgnews.naver.net%2Fimage%2F410%2F2024%2F01%2F16%2F0000977223_003_20240116080209007.png&type=a340',\n",
       " 'https://search.pstatic.net/common/?src=http%3A%2F%2Fimgnews.naver.net%2Fimage%2F001%2F2024%2F06%2F11%2FPYH2024061120000001300_P4_20240611203913690.jpg&type=a340',\n",
       " 'data:image/gif;base64,R0lGODlhAQABAIAAAAAAAP///yH5BAEAAAAALAAAAAABAAEAAAIBRAA7',\n",
       " 'data:image/gif;base64,R0lGODlhAQABAIAAAAAAAP///yH5BAEAAAAALAAAAAABAAEAAAIBRAA7',\n",
       " 'data:image/gif;base64,R0lGODlhAQABAIAAAAAAAP///yH5BAEAAAAALAAAAAABAAEAAAIBRAA7',\n",
       " 'data:image/gif;base64,R0lGODlhAQABAIAAAAAAAP///yH5BAEAAAAALAAAAAABAAEAAAIBRAA7',\n",
       " 'data:image/gif;base64,R0lGODlhAQABAIAAAAAAAP///yH5BAEAAAAALAAAAAABAAEAAAIBRAA7',\n",
       " 'data:image/gif;base64,R0lGODlhAQABAIAAAAAAAP///yH5BAEAAAAALAAAAAABAAEAAAIBRAA7',\n",
       " 'data:image/gif;base64,R0lGODlhAQABAIAAAAAAAP///yH5BAEAAAAALAAAAAABAAEAAAIBRAA7',\n",
       " 'data:image/gif;base64,R0lGODlhAQABAIAAAAAAAP///yH5BAEAAAAALAAAAAABAAEAAAIBRAA7',\n",
       " 'data:image/gif;base64,R0lGODlhAQABAIAAAAAAAP///yH5BAEAAAAALAAAAAABAAEAAAIBRAA7',\n",
       " 'data:image/gif;base64,R0lGODlhAQABAIAAAAAAAP///yH5BAEAAAAALAAAAAABAAEAAAIBRAA7',\n",
       " 'data:image/gif;base64,R0lGODlhAQABAIAAAAAAAP///yH5BAEAAAAALAAAAAABAAEAAAIBRAA7',\n",
       " 'data:image/gif;base64,R0lGODlhAQABAIAAAAAAAP///yH5BAEAAAAALAAAAAABAAEAAAIBRAA7',\n",
       " 'data:image/gif;base64,R0lGODlhAQABAIAAAAAAAP///yH5BAEAAAAALAAAAAABAAEAAAIBRAA7',\n",
       " 'data:image/gif;base64,R0lGODlhAQABAIAAAAAAAP///yH5BAEAAAAALAAAAAABAAEAAAIBRAA7',\n",
       " 'data:image/gif;base64,R0lGODlhAQABAIAAAAAAAP///yH5BAEAAAAALAAAAAABAAEAAAIBRAA7',\n",
       " 'data:image/gif;base64,R0lGODlhAQABAIAAAAAAAP///yH5BAEAAAAALAAAAAABAAEAAAIBRAA7',\n",
       " 'data:image/gif;base64,R0lGODlhAQABAIAAAAAAAP///yH5BAEAAAAALAAAAAABAAEAAAIBRAA7',\n",
       " 'data:image/gif;base64,R0lGODlhAQABAIAAAAAAAP///yH5BAEAAAAALAAAAAABAAEAAAIBRAA7',\n",
       " 'data:image/gif;base64,R0lGODlhAQABAIAAAAAAAP///yH5BAEAAAAALAAAAAABAAEAAAIBRAA7',\n",
       " 'data:image/gif;base64,R0lGODlhAQABAIAAAAAAAP///yH5BAEAAAAALAAAAAABAAEAAAIBRAA7',\n",
       " 'data:image/gif;base64,R0lGODlhAQABAIAAAAAAAP///yH5BAEAAAAALAAAAAABAAEAAAIBRAA7',\n",
       " 'data:image/gif;base64,R0lGODlhAQABAIAAAAAAAP///yH5BAEAAAAALAAAAAABAAEAAAIBRAA7',\n",
       " 'data:image/gif;base64,R0lGODlhAQABAIAAAAAAAP///yH5BAEAAAAALAAAAAABAAEAAAIBRAA7',\n",
       " 'data:image/gif;base64,R0lGODlhAQABAIAAAAAAAP///yH5BAEAAAAALAAAAAABAAEAAAIBRAA7',\n",
       " 'data:image/gif;base64,R0lGODlhAQABAIAAAAAAAP///yH5BAEAAAAALAAAAAABAAEAAAIBRAA7',\n",
       " 'data:image/gif;base64,R0lGODlhAQABAIAAAAAAAP///yH5BAEAAAAALAAAAAABAAEAAAIBRAA7',\n",
       " 'data:image/gif;base64,R0lGODlhAQABAIAAAAAAAP///yH5BAEAAAAALAAAAAABAAEAAAIBRAA7',\n",
       " 'data:image/gif;base64,R0lGODlhAQABAIAAAAAAAP///yH5BAEAAAAALAAAAAABAAEAAAIBRAA7',\n",
       " 'data:image/gif;base64,R0lGODlhAQABAIAAAAAAAP///yH5BAEAAAAALAAAAAABAAEAAAIBRAA7',\n",
       " 'data:image/gif;base64,R0lGODlhAQABAIAAAAAAAP///yH5BAEAAAAALAAAAAABAAEAAAIBRAA7',\n",
       " 'data:image/gif;base64,R0lGODlhAQABAIAAAAAAAP///yH5BAEAAAAALAAAAAABAAEAAAIBRAA7',\n",
       " 'data:image/gif;base64,R0lGODlhAQABAIAAAAAAAP///yH5BAEAAAAALAAAAAABAAEAAAIBRAA7',\n",
       " 'data:image/gif;base64,R0lGODlhAQABAIAAAAAAAP///yH5BAEAAAAALAAAAAABAAEAAAIBRAA7',\n",
       " 'data:image/gif;base64,R0lGODlhAQABAIAAAAAAAP///yH5BAEAAAAALAAAAAABAAEAAAIBRAA7']"
      ]
     },
     "execution_count": 37,
     "metadata": {},
     "output_type": "execute_result"
    }
   ],
   "source": [
    "imgUrl"
   ]
  },
  {
   "cell_type": "code",
   "execution_count": 39,
   "id": "f46ae35b-44a8-4fc7-84a7-ca7b6ad41518",
   "metadata": {},
   "outputs": [],
   "source": [
    "cnt = 0;\n",
    "for i in imgUrl :\n",
    "    urlretrieve(i, \"C:/Users/star1/OneDrive/바탕 화면/이미지\" + str(cnt) + \".jpg\")\n",
    "    cnt = cnt + 1;"
   ]
  },
  {
   "cell_type": "code",
   "execution_count": 40,
   "id": "96080975-fd22-4a22-8dbc-c84910fce4e4",
   "metadata": {},
   "outputs": [],
   "source": [
    "cnt = 0\n",
    "for i in imgUrl:\n",
    "    # Correct file path construction\n",
    "    file_path = f\"C:/Users/star1/OneDrive/바탕 화면/이미지/{cnt}.jpg\"\n",
    "    urlretrieve(i, file_path)\n",
    "    cnt += 1"
   ]
  },
  {
   "cell_type": "code",
   "execution_count": null,
   "id": "6bd2dadb-5388-4d26-a808-ab91481942e0",
   "metadata": {},
   "outputs": [],
   "source": []
  }
 ],
 "metadata": {
  "kernelspec": {
   "display_name": "Python 3 (ipykernel)",
   "language": "python",
   "name": "python3"
  },
  "language_info": {
   "codemirror_mode": {
    "name": "ipython",
    "version": 3
   },
   "file_extension": ".py",
   "mimetype": "text/x-python",
   "name": "python",
   "nbconvert_exporter": "python",
   "pygments_lexer": "ipython3",
   "version": "3.12.7"
  }
 },
 "nbformat": 4,
 "nbformat_minor": 5
}
