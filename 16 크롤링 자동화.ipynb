{
 "cells": [
  {
   "cell_type": "code",
   "execution_count": 1,
   "id": "d3f5fa8a-13ec-4b55-a37c-8dd9319427ee",
   "metadata": {},
   "outputs": [],
   "source": [
    "import requests as req\n",
    "from bs4 import BeautifulSoup as bs\n",
    "import pandas as pd"
   ]
  },
  {
   "cell_type": "code",
   "execution_count": 9,
   "id": "d5d45d3c-df6f-4a90-ad3f-aae5afe8e576",
   "metadata": {},
   "outputs": [],
   "source": [
    "res = req.get(\"https://search.naver.com/search.naver?where=news&query=%EC%86%8D%EB%B3%B4&sm=tab_tmr&nso=so:r,p:all,a:all&sort=0\")"
   ]
  },
  {
   "cell_type": "code",
   "execution_count": 12,
   "id": "51788bf5-51ba-4a86-87b0-cd370f89c9f1",
   "metadata": {},
   "outputs": [],
   "source": [
    "soup = bs(res.text, \"lxml\")"
   ]
  },
  {
   "cell_type": "code",
   "execution_count": 15,
   "id": "28d76673-0338-47b5-8d4b-4fa8ce576efe",
   "metadata": {},
   "outputs": [],
   "source": [
    "title = soup.select(\"a.news_tit\")"
   ]
  },
  {
   "cell_type": "code",
   "execution_count": 19,
   "id": "06398f0b-50e1-4806-8c88-60ba426e520e",
   "metadata": {},
   "outputs": [],
   "source": [
    "titleList = []\n",
    "for i in title:\n",
    "    titleList.append(i.text)"
   ]
  },
  {
   "cell_type": "code",
   "execution_count": 22,
   "id": "f19b2c3b-943c-452c-a74a-fd9ab17d603e",
   "metadata": {},
   "outputs": [],
   "source": [
    "dic = {\"뉴스제목\" : titleList}\n",
    "df = pd.DataFrame(dic)\n",
    "df.to_csv(\"data.csv\", encoding=\"utf-8\", index=False)"
   ]
  },
  {
   "cell_type": "code",
   "execution_count": null,
   "id": "d6356701-09b5-4453-929f-e5926ebed963",
   "metadata": {},
   "outputs": [],
   "source": [
    "import requests as req\n",
    "from bs4 import BeautifulSoup as bs\n",
    "import pandas as pd\n",
    "\n",
    "res = req.get(\"https://search.naver.com/search.naver?where=news&query=%EC%86%8D%EB%B3%B4&sm=tab_tmr&nso=so:r,p:all,a:all&sort=0\")\n",
    "soup = bs(res.text, \"lxml\")\n",
    "title = soup.select(\"a.news_tit\")\n",
    "titleList = []\n",
    "for i in title:\n",
    "    titleList.append(i.text)\n",
    "\n",
    "dic = {\"뉴스제목\" : titleList}\n",
    "df = pd.DataFrame(dic)\n",
    "df.to_csv(\"data1.csv\", encoding=\"utf-8\", index=False)"
   ]
  }
 ],
 "metadata": {
  "kernelspec": {
   "display_name": "Python 3 (ipykernel)",
   "language": "python",
   "name": "python3"
  },
  "language_info": {
   "codemirror_mode": {
    "name": "ipython",
    "version": 3
   },
   "file_extension": ".py",
   "mimetype": "text/x-python",
   "name": "python",
   "nbconvert_exporter": "python",
   "pygments_lexer": "ipython3",
   "version": "3.12.7"
  }
 },
 "nbformat": 4,
 "nbformat_minor": 5
}
