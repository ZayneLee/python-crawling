{
 "cells": [
  {
   "cell_type": "code",
   "execution_count": 5,
   "id": "6c1b3031-e8ae-4933-a7a9-36997844c432",
   "metadata": {},
   "outputs": [],
   "source": [
    "from selenium import webdriver as wb\n",
    "from selenium.webdriver.common.by import By\n",
    "import time"
   ]
  },
  {
   "cell_type": "code",
   "execution_count": 4,
   "id": "6e274e84-0072-4903-9471-1386319260bd",
   "metadata": {},
   "outputs": [],
   "source": [
    "driver = wb.Chrome()\n",
    "driver.get(\"https://www.gmarket.co.kr/n/best\")"
   ]
  },
  {
   "cell_type": "code",
   "execution_count": 15,
   "id": "fc3aad45-e114-48f5-9d12-e25d1d4a00da",
   "metadata": {},
   "outputs": [],
   "source": [
    "img = driver.find_elements(By.CSS_SELECTOR, \"div.box__thumbnail > img\")"
   ]
  },
  {
   "cell_type": "code",
   "execution_count": 17,
   "id": "adbaaaad-8e4f-4a70-af94-93b644724a26",
   "metadata": {},
   "outputs": [
    {
     "ename": "ElementClickInterceptedException",
     "evalue": "Message: element click intercepted: Element <img src=\"//gdimg.gmarket.co.kr/4224830797/still/300?ver=1732171522\" alt=\"(유니버스클럽 전용 쿠폰적용가 7천원) 메가박스 일반예매권 2D주중/주말\" loading=\"lazy\" decoding=\"async\" class=\"image\"> is not clickable at point (152, 397). Other element would receive the click: <div class=\"box__thumbnail\">...</div>\n  (Session info: chrome=131.0.6778.108)\nStacktrace:\n\tGetHandleVerifier [0x00007FF78B906CB5+28821]\n\t(No symbol) [0x00007FF78B873840]\n\t(No symbol) [0x00007FF78B71578A]\n\t(No symbol) [0x00007FF78B770E8E]\n\t(No symbol) [0x00007FF78B76E92C]\n\t(No symbol) [0x00007FF78B76BAF6]\n\t(No symbol) [0x00007FF78B76AA51]\n\t(No symbol) [0x00007FF78B75CBA0]\n\t(No symbol) [0x00007FF78B78F2FA]\n\t(No symbol) [0x00007FF78B75C3F6]\n\t(No symbol) [0x00007FF78B78F510]\n\t(No symbol) [0x00007FF78B7AF412]\n\t(No symbol) [0x00007FF78B78F0A3]\n\t(No symbol) [0x00007FF78B75A778]\n\t(No symbol) [0x00007FF78B75B8E1]\n\tGetHandleVerifier [0x00007FF78BC3FCAD+3408013]\n\tGetHandleVerifier [0x00007FF78BC5741F+3504127]\n\tGetHandleVerifier [0x00007FF78BC4B5FD+3455453]\n\tGetHandleVerifier [0x00007FF78B9CBDBB+835995]\n\t(No symbol) [0x00007FF78B87EB5F]\n\t(No symbol) [0x00007FF78B87A814]\n\t(No symbol) [0x00007FF78B87A9AD]\n\t(No symbol) [0x00007FF78B86A199]\n\tBaseThreadInitThunk [0x00007FFF7548259D+29]\n\tRtlUserThreadStart [0x00007FFF7616AF38+40]\n",
     "output_type": "error",
     "traceback": [
      "\u001b[1;31m---------------------------------------------------------------------------\u001b[0m",
      "\u001b[1;31mElementClickInterceptedException\u001b[0m          Traceback (most recent call last)",
      "Cell \u001b[1;32mIn[17], line 1\u001b[0m\n\u001b[1;32m----> 1\u001b[0m img[\u001b[38;5;241m0\u001b[39m]\u001b[38;5;241m.\u001b[39mclick()\n",
      "File \u001b[1;32m~\\anaconda3\\Lib\\site-packages\\selenium\\webdriver\\remote\\webelement.py:94\u001b[0m, in \u001b[0;36mWebElement.click\u001b[1;34m(self)\u001b[0m\n\u001b[0;32m     92\u001b[0m \u001b[38;5;28;01mdef\u001b[39;00m \u001b[38;5;21mclick\u001b[39m(\u001b[38;5;28mself\u001b[39m) \u001b[38;5;241m-\u001b[39m\u001b[38;5;241m>\u001b[39m \u001b[38;5;28;01mNone\u001b[39;00m:\n\u001b[0;32m     93\u001b[0m \u001b[38;5;250m    \u001b[39m\u001b[38;5;124;03m\"\"\"Clicks the element.\"\"\"\u001b[39;00m\n\u001b[1;32m---> 94\u001b[0m     \u001b[38;5;28mself\u001b[39m\u001b[38;5;241m.\u001b[39m_execute(Command\u001b[38;5;241m.\u001b[39mCLICK_ELEMENT)\n",
      "File \u001b[1;32m~\\anaconda3\\Lib\\site-packages\\selenium\\webdriver\\remote\\webelement.py:395\u001b[0m, in \u001b[0;36mWebElement._execute\u001b[1;34m(self, command, params)\u001b[0m\n\u001b[0;32m    393\u001b[0m     params \u001b[38;5;241m=\u001b[39m {}\n\u001b[0;32m    394\u001b[0m params[\u001b[38;5;124m\"\u001b[39m\u001b[38;5;124mid\u001b[39m\u001b[38;5;124m\"\u001b[39m] \u001b[38;5;241m=\u001b[39m \u001b[38;5;28mself\u001b[39m\u001b[38;5;241m.\u001b[39m_id\n\u001b[1;32m--> 395\u001b[0m \u001b[38;5;28;01mreturn\u001b[39;00m \u001b[38;5;28mself\u001b[39m\u001b[38;5;241m.\u001b[39m_parent\u001b[38;5;241m.\u001b[39mexecute(command, params)\n",
      "File \u001b[1;32m~\\anaconda3\\Lib\\site-packages\\selenium\\webdriver\\remote\\webdriver.py:384\u001b[0m, in \u001b[0;36mWebDriver.execute\u001b[1;34m(self, driver_command, params)\u001b[0m\n\u001b[0;32m    382\u001b[0m response \u001b[38;5;241m=\u001b[39m \u001b[38;5;28mself\u001b[39m\u001b[38;5;241m.\u001b[39mcommand_executor\u001b[38;5;241m.\u001b[39mexecute(driver_command, params)\n\u001b[0;32m    383\u001b[0m \u001b[38;5;28;01mif\u001b[39;00m response:\n\u001b[1;32m--> 384\u001b[0m     \u001b[38;5;28mself\u001b[39m\u001b[38;5;241m.\u001b[39merror_handler\u001b[38;5;241m.\u001b[39mcheck_response(response)\n\u001b[0;32m    385\u001b[0m     response[\u001b[38;5;124m\"\u001b[39m\u001b[38;5;124mvalue\u001b[39m\u001b[38;5;124m\"\u001b[39m] \u001b[38;5;241m=\u001b[39m \u001b[38;5;28mself\u001b[39m\u001b[38;5;241m.\u001b[39m_unwrap_value(response\u001b[38;5;241m.\u001b[39mget(\u001b[38;5;124m\"\u001b[39m\u001b[38;5;124mvalue\u001b[39m\u001b[38;5;124m\"\u001b[39m, \u001b[38;5;28;01mNone\u001b[39;00m))\n\u001b[0;32m    386\u001b[0m     \u001b[38;5;28;01mreturn\u001b[39;00m response\n",
      "File \u001b[1;32m~\\anaconda3\\Lib\\site-packages\\selenium\\webdriver\\remote\\errorhandler.py:232\u001b[0m, in \u001b[0;36mErrorHandler.check_response\u001b[1;34m(self, response)\u001b[0m\n\u001b[0;32m    230\u001b[0m         alert_text \u001b[38;5;241m=\u001b[39m value[\u001b[38;5;124m\"\u001b[39m\u001b[38;5;124malert\u001b[39m\u001b[38;5;124m\"\u001b[39m]\u001b[38;5;241m.\u001b[39mget(\u001b[38;5;124m\"\u001b[39m\u001b[38;5;124mtext\u001b[39m\u001b[38;5;124m\"\u001b[39m)\n\u001b[0;32m    231\u001b[0m     \u001b[38;5;28;01mraise\u001b[39;00m exception_class(message, screen, stacktrace, alert_text)  \u001b[38;5;66;03m# type: ignore[call-arg]  # mypy is not smart enough here\u001b[39;00m\n\u001b[1;32m--> 232\u001b[0m \u001b[38;5;28;01mraise\u001b[39;00m exception_class(message, screen, stacktrace)\n",
      "\u001b[1;31mElementClickInterceptedException\u001b[0m: Message: element click intercepted: Element <img src=\"//gdimg.gmarket.co.kr/4224830797/still/300?ver=1732171522\" alt=\"(유니버스클럽 전용 쿠폰적용가 7천원) 메가박스 일반예매권 2D주중/주말\" loading=\"lazy\" decoding=\"async\" class=\"image\"> is not clickable at point (152, 397). Other element would receive the click: <div class=\"box__thumbnail\">...</div>\n  (Session info: chrome=131.0.6778.108)\nStacktrace:\n\tGetHandleVerifier [0x00007FF78B906CB5+28821]\n\t(No symbol) [0x00007FF78B873840]\n\t(No symbol) [0x00007FF78B71578A]\n\t(No symbol) [0x00007FF78B770E8E]\n\t(No symbol) [0x00007FF78B76E92C]\n\t(No symbol) [0x00007FF78B76BAF6]\n\t(No symbol) [0x00007FF78B76AA51]\n\t(No symbol) [0x00007FF78B75CBA0]\n\t(No symbol) [0x00007FF78B78F2FA]\n\t(No symbol) [0x00007FF78B75C3F6]\n\t(No symbol) [0x00007FF78B78F510]\n\t(No symbol) [0x00007FF78B7AF412]\n\t(No symbol) [0x00007FF78B78F0A3]\n\t(No symbol) [0x00007FF78B75A778]\n\t(No symbol) [0x00007FF78B75B8E1]\n\tGetHandleVerifier [0x00007FF78BC3FCAD+3408013]\n\tGetHandleVerifier [0x00007FF78BC5741F+3504127]\n\tGetHandleVerifier [0x00007FF78BC4B5FD+3455453]\n\tGetHandleVerifier [0x00007FF78B9CBDBB+835995]\n\t(No symbol) [0x00007FF78B87EB5F]\n\t(No symbol) [0x00007FF78B87A814]\n\t(No symbol) [0x00007FF78B87A9AD]\n\t(No symbol) [0x00007FF78B86A199]\n\tBaseThreadInitThunk [0x00007FFF7548259D+29]\n\tRtlUserThreadStart [0x00007FFF7616AF38+40]\n"
     ]
    }
   ],
   "source": []
  }
 ],
 "metadata": {
  "kernelspec": {
   "display_name": "Python 3 (ipykernel)",
   "language": "python",
   "name": "python3"
  },
  "language_info": {
   "codemirror_mode": {
    "name": "ipython",
    "version": 3
   },
   "file_extension": ".py",
   "mimetype": "text/x-python",
   "name": "python",
   "nbconvert_exporter": "python",
   "pygments_lexer": "ipython3",
   "version": "3.12.7"
  }
 },
 "nbformat": 4,
 "nbformat_minor": 5
}
