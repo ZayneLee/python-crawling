{
 "cells": [
  {
   "cell_type": "code",
   "execution_count": 3,
   "id": "ae60e2d6-ea67-4fe2-8340-7ca9cf1ebbb0",
   "metadata": {},
   "outputs": [],
   "source": [
    "from selenium import webdriver as wb\n",
    "from selenium.webdriver.common.keys import Keys\n",
    "from selenium.webdriver.common.by import By\n",
    "import time\n",
    "import os\n",
    "from urllib.request import urlretrieve\n",
    "import re"
   ]
  },
  {
   "cell_type": "code",
   "execution_count": 2,
   "id": "d7b97c04-448a-4e69-ac84-a33c2062e3fe",
   "metadata": {},
   "outputs": [],
   "source": [
    "driver = wb.Chrome()\n",
    "driver.get(\"https://www.instagram.com/\")"
   ]
  },
  {
   "cell_type": "code",
   "execution_count": 4,
   "id": "8fc7bc33-03ce-4805-ba16-fe6415b5101e",
   "metadata": {},
   "outputs": [],
   "source": [
    "id_input = driver.find_element(By.XPATH, \"//input[@name='username']\")\n",
    "id_input.send_keys(\"zaynelee90\")"
   ]
  },
  {
   "cell_type": "code",
   "execution_count": 5,
   "id": "ad27432d-7626-4859-90aa-0428019f380f",
   "metadata": {},
   "outputs": [],
   "source": [
    "pw_input = driver.find_element(By.XPATH, \"//input[@name='password']\")\n",
    "pw_input.send_keys(\"@L4545house\")"
   ]
  },
  {
   "cell_type": "code",
   "execution_count": 6,
   "id": "9bc4cd7f-e4f6-4edd-b6bf-c89083db5578",
   "metadata": {},
   "outputs": [],
   "source": [
    "login_button = driver.find_element(By.XPATH, \"//div[text()='로그인']\")\n",
    "login_button.click()"
   ]
  },
  {
   "cell_type": "code",
   "execution_count": 8,
   "id": "e8e715e0-2c30-476b-820d-e09e816f5b37",
   "metadata": {},
   "outputs": [],
   "source": [
    "later_button = driver.find_element(By.XPATH, \"//div[text()='나중에 하기']\")\n",
    "later_button.click()"
   ]
  },
  {
   "cell_type": "code",
   "execution_count": 10,
   "id": "e67787e0-6f6b-4ac6-876b-638f8d19bc47",
   "metadata": {},
   "outputs": [],
   "source": [
    "search_button = driver.find_element(By.XPATH, \"//span[text()='검색']\")\n",
    "search_button.click()"
   ]
  },
  {
   "cell_type": "code",
   "execution_count": 12,
   "id": "61542820-bffe-4985-a13b-4e151bd803b3",
   "metadata": {},
   "outputs": [],
   "source": [
    "search_input = driver.find_element(By.XPATH, \"//*[@id='mount_0_0_so']/div/div/div[2]/div/div/div[1]/div[1]/div[2]/div/div/div[2]/div/div/div[2]/div/div/div[1]/div/div/input\")\n",
    "search_input.send_keys(\"손흥민\")"
   ]
  },
  {
   "cell_type": "code",
   "execution_count": 13,
   "id": "d25b2a9b-a473-49bf-9f2b-7b0bb976fa88",
   "metadata": {},
   "outputs": [],
   "source": [
    "son = driver.find_element(By.XPATH, \"//*[@id='mount_0_0_so']/div/div/div[2]/div/div/div[1]/div[1]/div[2]/div/div/div[2]/div/div/div[2]/div/div/div[2]/div/a[1]/div[1]\")\n",
    "son.click()"
   ]
  },
  {
   "cell_type": "code",
   "execution_count": 15,
   "id": "faecc2f5-fe42-4897-a99d-c1ea0762225a",
   "metadata": {},
   "outputs": [],
   "source": [
    "follow = driver.find_element(By.XPATH, \"//a[contains(text(),'팔로우')]\")\n",
    "follow.click()"
   ]
  },
  {
   "cell_type": "code",
   "execution_count": 19,
   "id": "4c303170-2524-42bf-83e6-4a932286f5aa",
   "metadata": {},
   "outputs": [],
   "source": [
    "try :\n",
    "    for i in range(100):\n",
    "        body = driver.find_element(By.XPATH, \"/html/body/div[5]/div[2]/div/div/div[1]/div/div[2]/div/div/div/div/div[2]/div/div/div[4]\")\n",
    "        body.send_keys(Keys.END)\n",
    "        time.sleep(0.5)\n",
    "except:\n",
    "    print(\"스크롤 완료\")"
   ]
  },
  {
   "cell_type": "code",
   "execution_count": 21,
   "id": "b79894c8-5e2a-42de-a729-73bb45004836",
   "metadata": {},
   "outputs": [
    {
     "data": {
      "text/plain": [
       "'mun_ki88'"
      ]
     },
     "execution_count": 21,
     "metadata": {},
     "output_type": "execute_result"
    }
   ],
   "source": [
    "fList = driver.find_elements(By.CSS_SELECTOR, \"body > div.x1n2onr6.xzkaem6 > div:nth-child(2) > div > div > div.x9f619.x1n2onr6.x1ja2u2z > div > div.x1uvtmcs.x4k7w5x.x1h91t0o.x1beo9mf.xaigb6o.x12ejxvf.x3igimt.xarpa2k.xedcshv.x1lytzrv.x1t2pt76.x7ja8zs.x1n2onr6.x1qrby5j.x1jfb8zj > div > div > div > div > div.x7r02ix.xf1ldfh.x131esax.xdajt7p.xxfnqb6.xb88tzc.xw2csxc.x1odjw0f.x5fp0pe > div > div > div.xyi19xy.x1ccrb07.xtf3nb5.x1pc53ja.x1lliihq.x1iyjqo2.xs83m0k.xz65tgg.x1rife3k.x1n2onr6 > div > div > div > div > div > div > div.x9f619.x1ja2u2z.x78zum5.x1n2onr6.x1iyjqo2.xs83m0k.xeuugli.x1qughib.x6s0dn4.x1a02dak.x1q0g3np.xdl72j9 > div > div > div > div > div > a > div > div > span\")\n",
    "fList[0].text"
   ]
  },
  {
   "cell_type": "code",
   "execution_count": 22,
   "id": "93dc062e-68cf-41bb-a540-99bbae5c752f",
   "metadata": {},
   "outputs": [
    {
     "data": {
      "text/plain": [
       "238"
      ]
     },
     "execution_count": 22,
     "metadata": {},
     "output_type": "execute_result"
    }
   ],
   "source": [
    "len(fList)"
   ]
  }
 ],
 "metadata": {
  "kernelspec": {
   "display_name": "Python 3 (ipykernel)",
   "language": "python",
   "name": "python3"
  },
  "language_info": {
   "codemirror_mode": {
    "name": "ipython",
    "version": 3
   },
   "file_extension": ".py",
   "mimetype": "text/x-python",
   "name": "python",
   "nbconvert_exporter": "python",
   "pygments_lexer": "ipython3",
   "version": "3.12.7"
  }
 },
 "nbformat": 4,
 "nbformat_minor": 5
}
