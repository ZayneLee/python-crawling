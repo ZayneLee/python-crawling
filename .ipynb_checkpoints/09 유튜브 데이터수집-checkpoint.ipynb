{
 "cells": [
  {
   "cell_type": "code",
   "execution_count": 4,
   "id": "8489a2f2-f66b-4240-82cf-7623e8277318",
   "metadata": {},
   "outputs": [],
   "source": [
    "from selenium import webdriver as wb\n",
    "from selenium.webdriver.common.keys import Keys\n",
    "from selenium.webdriver.common.by import By\n",
    "import time"
   ]
  },
  {
   "cell_type": "code",
   "execution_count": 5,
   "id": "dd7ebadf-22c4-4305-abde-819dfdb5c322",
   "metadata": {},
   "outputs": [],
   "source": [
    "driver = wb.Chrome()\n",
    "driver.get(\"https://www.youtube.com/@ALTUBETV/videos\")"
   ]
  },
  {
   "cell_type": "code",
   "execution_count": 7,
   "id": "a3feaf1c-9880-4fea-84b0-7bb748e27ad0",
   "metadata": {},
   "outputs": [],
   "source": [
    "title = driver.find_elements(By.ID, \"video-title\")"
   ]
  },
  {
   "cell_type": "code",
   "execution_count": 22,
   "id": "4fc774e0-ec44-4213-a8f5-8a4a746585e4",
   "metadata": {},
   "outputs": [
    {
     "data": {
      "text/plain": [
       "'정상적인 게임을 하고 싶어하는 상대한테 미친듯이 이상한 플레이만 했더니, 결국 분노게이지가 터져버린 상대ㅋㅋ'"
      ]
     },
     "execution_count": 22,
     "metadata": {},
     "output_type": "execute_result"
    }
   ],
   "source": [
    "title[1].text"
   ]
  },
  {
   "cell_type": "code",
   "execution_count": 25,
   "id": "1d743d22-5b3c-47f7-8a0f-ee040f465608",
   "metadata": {},
   "outputs": [],
   "source": [
    "view = driver.find_elements(By.CSS_SELECTOR, \"div#metadata-line > span:nth-child(3)\")"
   ]
  },
  {
   "cell_type": "code",
   "execution_count": 28,
   "id": "ba7f6616-e68c-4c39-83fc-395f9d24a17f",
   "metadata": {},
   "outputs": [
    {
     "data": {
      "text/plain": [
       "'조회수 5.8만회'"
      ]
     },
     "execution_count": 28,
     "metadata": {},
     "output_type": "execute_result"
    }
   ],
   "source": [
    "view[1].text"
   ]
  },
  {
   "cell_type": "code",
   "execution_count": null,
   "id": "4c1a503f-41bf-44b3-bef8-2ec66aed480c",
   "metadata": {},
   "outputs": [],
   "source": []
  }
 ],
 "metadata": {
  "kernelspec": {
   "display_name": "Python 3 (ipykernel)",
   "language": "python",
   "name": "python3"
  },
  "language_info": {
   "codemirror_mode": {
    "name": "ipython",
    "version": 3
   },
   "file_extension": ".py",
   "mimetype": "text/x-python",
   "name": "python",
   "nbconvert_exporter": "python",
   "pygments_lexer": "ipython3",
   "version": "3.12.7"
  }
 },
 "nbformat": 4,
 "nbformat_minor": 5
}
