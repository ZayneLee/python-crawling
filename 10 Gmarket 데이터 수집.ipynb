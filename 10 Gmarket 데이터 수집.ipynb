{
 "cells": [
  {
   "cell_type": "code",
   "execution_count": 42,
   "id": "6c1b3031-e8ae-4933-a7a9-36997844c432",
   "metadata": {},
   "outputs": [],
   "source": [
    "from selenium import webdriver as wb\n",
    "from selenium.webdriver.common.by import By\n",
    "import time\n",
    "import pandas as pd"
   ]
  },
  {
   "cell_type": "code",
   "execution_count": 21,
   "id": "6e274e84-0072-4903-9471-1386319260bd",
   "metadata": {},
   "outputs": [],
   "source": [
    "driver = wb.Chrome()\n",
    "driver.get(\"https://www.11st.co.kr/browsing/BestSeller.tmall?method=getBestSellerMain&xfrom=main^gnb\")"
   ]
  },
  {
   "cell_type": "code",
   "execution_count": 22,
   "id": "fc3aad45-e114-48f5-9d12-e25d1d4a00da",
   "metadata": {},
   "outputs": [],
   "source": [
    "img = driver.find_elements(By.CSS_SELECTOR, \"div.pname\")"
   ]
  },
  {
   "cell_type": "code",
   "execution_count": 25,
   "id": "adbaaaad-8e4f-4a70-af94-93b644724a26",
   "metadata": {
    "collapsed": true,
    "jupyter": {
     "outputs_hidden": true
    }
   },
   "outputs": [
    {
     "ename": "StaleElementReferenceException",
     "evalue": "Message: stale element reference: stale element not found\n  (Session info: chrome=131.0.6778.108); For documentation on this error, please visit: https://www.selenium.dev/documentation/webdriver/troubleshooting/errors#stale-element-reference-exception\nStacktrace:\n\tGetHandleVerifier [0x00007FF78B906CB5+28821]\n\t(No symbol) [0x00007FF78B873840]\n\t(No symbol) [0x00007FF78B71578A]\n\t(No symbol) [0x00007FF78B729D94]\n\t(No symbol) [0x00007FF78B728844]\n\t(No symbol) [0x00007FF78B71CF91]\n\t(No symbol) [0x00007FF78B71ADB5]\n\t(No symbol) [0x00007FF78B71EFCC]\n\t(No symbol) [0x00007FF78B71F09F]\n\t(No symbol) [0x00007FF78B76B34B]\n\t(No symbol) [0x00007FF78B75CA96]\n\t(No symbol) [0x00007FF78B78F2FA]\n\t(No symbol) [0x00007FF78B75C3F6]\n\t(No symbol) [0x00007FF78B78F510]\n\t(No symbol) [0x00007FF78B7AF412]\n\t(No symbol) [0x00007FF78B78F0A3]\n\t(No symbol) [0x00007FF78B75A778]\n\t(No symbol) [0x00007FF78B75B8E1]\n\tGetHandleVerifier [0x00007FF78BC3FCAD+3408013]\n\tGetHandleVerifier [0x00007FF78BC5741F+3504127]\n\tGetHandleVerifier [0x00007FF78BC4B5FD+3455453]\n\tGetHandleVerifier [0x00007FF78B9CBDBB+835995]\n\t(No symbol) [0x00007FF78B87EB5F]\n\t(No symbol) [0x00007FF78B87A814]\n\t(No symbol) [0x00007FF78B87A9AD]\n\t(No symbol) [0x00007FF78B86A199]\n\tBaseThreadInitThunk [0x00007FFF7548259D+29]\n\tRtlUserThreadStart [0x00007FFF7616AF38+40]\n",
     "output_type": "error",
     "traceback": [
      "\u001b[1;31m---------------------------------------------------------------------------\u001b[0m",
      "\u001b[1;31mStaleElementReferenceException\u001b[0m            Traceback (most recent call last)",
      "Cell \u001b[1;32mIn[25], line 1\u001b[0m\n\u001b[1;32m----> 1\u001b[0m img[\u001b[38;5;241m0\u001b[39m]\u001b[38;5;241m.\u001b[39mclick()\n",
      "File \u001b[1;32m~\\anaconda3\\Lib\\site-packages\\selenium\\webdriver\\remote\\webelement.py:94\u001b[0m, in \u001b[0;36mWebElement.click\u001b[1;34m(self)\u001b[0m\n\u001b[0;32m     92\u001b[0m \u001b[38;5;28;01mdef\u001b[39;00m \u001b[38;5;21mclick\u001b[39m(\u001b[38;5;28mself\u001b[39m) \u001b[38;5;241m-\u001b[39m\u001b[38;5;241m>\u001b[39m \u001b[38;5;28;01mNone\u001b[39;00m:\n\u001b[0;32m     93\u001b[0m \u001b[38;5;250m    \u001b[39m\u001b[38;5;124;03m\"\"\"Clicks the element.\"\"\"\u001b[39;00m\n\u001b[1;32m---> 94\u001b[0m     \u001b[38;5;28mself\u001b[39m\u001b[38;5;241m.\u001b[39m_execute(Command\u001b[38;5;241m.\u001b[39mCLICK_ELEMENT)\n",
      "File \u001b[1;32m~\\anaconda3\\Lib\\site-packages\\selenium\\webdriver\\remote\\webelement.py:395\u001b[0m, in \u001b[0;36mWebElement._execute\u001b[1;34m(self, command, params)\u001b[0m\n\u001b[0;32m    393\u001b[0m     params \u001b[38;5;241m=\u001b[39m {}\n\u001b[0;32m    394\u001b[0m params[\u001b[38;5;124m\"\u001b[39m\u001b[38;5;124mid\u001b[39m\u001b[38;5;124m\"\u001b[39m] \u001b[38;5;241m=\u001b[39m \u001b[38;5;28mself\u001b[39m\u001b[38;5;241m.\u001b[39m_id\n\u001b[1;32m--> 395\u001b[0m \u001b[38;5;28;01mreturn\u001b[39;00m \u001b[38;5;28mself\u001b[39m\u001b[38;5;241m.\u001b[39m_parent\u001b[38;5;241m.\u001b[39mexecute(command, params)\n",
      "File \u001b[1;32m~\\anaconda3\\Lib\\site-packages\\selenium\\webdriver\\remote\\webdriver.py:384\u001b[0m, in \u001b[0;36mWebDriver.execute\u001b[1;34m(self, driver_command, params)\u001b[0m\n\u001b[0;32m    382\u001b[0m response \u001b[38;5;241m=\u001b[39m \u001b[38;5;28mself\u001b[39m\u001b[38;5;241m.\u001b[39mcommand_executor\u001b[38;5;241m.\u001b[39mexecute(driver_command, params)\n\u001b[0;32m    383\u001b[0m \u001b[38;5;28;01mif\u001b[39;00m response:\n\u001b[1;32m--> 384\u001b[0m     \u001b[38;5;28mself\u001b[39m\u001b[38;5;241m.\u001b[39merror_handler\u001b[38;5;241m.\u001b[39mcheck_response(response)\n\u001b[0;32m    385\u001b[0m     response[\u001b[38;5;124m\"\u001b[39m\u001b[38;5;124mvalue\u001b[39m\u001b[38;5;124m\"\u001b[39m] \u001b[38;5;241m=\u001b[39m \u001b[38;5;28mself\u001b[39m\u001b[38;5;241m.\u001b[39m_unwrap_value(response\u001b[38;5;241m.\u001b[39mget(\u001b[38;5;124m\"\u001b[39m\u001b[38;5;124mvalue\u001b[39m\u001b[38;5;124m\"\u001b[39m, \u001b[38;5;28;01mNone\u001b[39;00m))\n\u001b[0;32m    386\u001b[0m     \u001b[38;5;28;01mreturn\u001b[39;00m response\n",
      "File \u001b[1;32m~\\anaconda3\\Lib\\site-packages\\selenium\\webdriver\\remote\\errorhandler.py:232\u001b[0m, in \u001b[0;36mErrorHandler.check_response\u001b[1;34m(self, response)\u001b[0m\n\u001b[0;32m    230\u001b[0m         alert_text \u001b[38;5;241m=\u001b[39m value[\u001b[38;5;124m\"\u001b[39m\u001b[38;5;124malert\u001b[39m\u001b[38;5;124m\"\u001b[39m]\u001b[38;5;241m.\u001b[39mget(\u001b[38;5;124m\"\u001b[39m\u001b[38;5;124mtext\u001b[39m\u001b[38;5;124m\"\u001b[39m)\n\u001b[0;32m    231\u001b[0m     \u001b[38;5;28;01mraise\u001b[39;00m exception_class(message, screen, stacktrace, alert_text)  \u001b[38;5;66;03m# type: ignore[call-arg]  # mypy is not smart enough here\u001b[39;00m\n\u001b[1;32m--> 232\u001b[0m \u001b[38;5;28;01mraise\u001b[39;00m exception_class(message, screen, stacktrace)\n",
      "\u001b[1;31mStaleElementReferenceException\u001b[0m: Message: stale element reference: stale element not found\n  (Session info: chrome=131.0.6778.108); For documentation on this error, please visit: https://www.selenium.dev/documentation/webdriver/troubleshooting/errors#stale-element-reference-exception\nStacktrace:\n\tGetHandleVerifier [0x00007FF78B906CB5+28821]\n\t(No symbol) [0x00007FF78B873840]\n\t(No symbol) [0x00007FF78B71578A]\n\t(No symbol) [0x00007FF78B729D94]\n\t(No symbol) [0x00007FF78B728844]\n\t(No symbol) [0x00007FF78B71CF91]\n\t(No symbol) [0x00007FF78B71ADB5]\n\t(No symbol) [0x00007FF78B71EFCC]\n\t(No symbol) [0x00007FF78B71F09F]\n\t(No symbol) [0x00007FF78B76B34B]\n\t(No symbol) [0x00007FF78B75CA96]\n\t(No symbol) [0x00007FF78B78F2FA]\n\t(No symbol) [0x00007FF78B75C3F6]\n\t(No symbol) [0x00007FF78B78F510]\n\t(No symbol) [0x00007FF78B7AF412]\n\t(No symbol) [0x00007FF78B78F0A3]\n\t(No symbol) [0x00007FF78B75A778]\n\t(No symbol) [0x00007FF78B75B8E1]\n\tGetHandleVerifier [0x00007FF78BC3FCAD+3408013]\n\tGetHandleVerifier [0x00007FF78BC5741F+3504127]\n\tGetHandleVerifier [0x00007FF78BC4B5FD+3455453]\n\tGetHandleVerifier [0x00007FF78B9CBDBB+835995]\n\t(No symbol) [0x00007FF78B87EB5F]\n\t(No symbol) [0x00007FF78B87A814]\n\t(No symbol) [0x00007FF78B87A9AD]\n\t(No symbol) [0x00007FF78B86A199]\n\tBaseThreadInitThunk [0x00007FFF7548259D+29]\n\tRtlUserThreadStart [0x00007FFF7616AF38+40]\n"
     ]
    }
   ],
   "source": [
    "img[0].click()"
   ]
  },
  {
   "cell_type": "code",
   "execution_count": 29,
   "id": "8c39881d-65f8-4441-9c74-c01fc512dd5e",
   "metadata": {},
   "outputs": [],
   "source": [
    "title = driver.find_element(By.CSS_SELECTOR, \"h1.title\").text"
   ]
  },
  {
   "cell_type": "code",
   "execution_count": 30,
   "id": "c0f8720c-7468-4d0e-8e8f-2fa44dfee864",
   "metadata": {},
   "outputs": [],
   "source": [
    "price = driver.find_element(By.CSS_SELECTOR, \"span.value\").text"
   ]
  },
  {
   "cell_type": "code",
   "execution_count": 35,
   "id": "f9080b19-3564-4961-9d7c-da126e8b23e5",
   "metadata": {},
   "outputs": [],
   "source": [
    "cate = driver.find_element(By.CSS_SELECTOR, \"#layBodyWrap > div > div.s_product.s_product_detail > div.l_product_cont_wrap > div > div.l_product_view_wrap > div.c_product_category_path > ol > li:nth-child(4) > div > div.dropdown_selected > em\").text"
   ]
  },
  {
   "cell_type": "code",
   "execution_count": 37,
   "id": "2fea798a-81c9-41c7-ad69-ecb441e9158b",
   "metadata": {},
   "outputs": [
    {
     "data": {
      "text/plain": [
       "'기타 돼지고기/가공육'"
      ]
     },
     "execution_count": 37,
     "metadata": {},
     "output_type": "execute_result"
    }
   ],
   "source": [
    "cate"
   ]
  },
  {
   "cell_type": "code",
   "execution_count": 39,
   "id": "496edecb-2c6f-4e37-84ed-38498ed30112",
   "metadata": {},
   "outputs": [],
   "source": [
    "driver.back()"
   ]
  },
  {
   "cell_type": "code",
   "execution_count": null,
   "id": "07db6734-89a0-476a-b488-735bc89c0a82",
   "metadata": {},
   "outputs": [],
   "source": [
    "driver = wb.Chrome()\n",
    "time.sleep(0.5)\n",
    "driver.get(\"https://www.11st.co.kr/browsing/BestSeller.tmall?method=getBestSellerMain&xfrom=main^gnb\")\n",
    "time.sleep(1)\n",
    "titleList = []\n",
    "priceList = []\n",
    "cateList = []\n",
    "for i in range(10) :\n",
    "    img = driver.find_elements(By.CSS_SELECTOR, \"div.pname\")\n",
    "    img[i].click()\n",
    "    time.sleep(1)\n",
    "    title = driver.find_element(By.CSS_SELECTOR, \"h1.title\").text\n",
    "    price = driver.find_element(By.CSS_SELECTOR, \"span.value\").text\n",
    "    cate = driver.find_element(By.CSS_SELECTOR, \"em.selected\").text\n",
    "    titleList.append(title)\n",
    "    priceList.append(price)\n",
    "    cateList.append(cate)\n",
    "    driver.back()\n",
    "    time.sleep(1)\n",
    "data = {\"이름\" : titleList, \"가격\" : priceList, \"분류\" : cateList}\n",
    "pd.DataFrame(data)"
   ]
  }
 ],
 "metadata": {
  "kernelspec": {
   "display_name": "Python 3 (ipykernel)",
   "language": "python",
   "name": "python3"
  },
  "language_info": {
   "codemirror_mode": {
    "name": "ipython",
    "version": 3
   },
   "file_extension": ".py",
   "mimetype": "text/x-python",
   "name": "python",
   "nbconvert_exporter": "python",
   "pygments_lexer": "ipython3",
   "version": "3.12.7"
  }
 },
 "nbformat": 4,
 "nbformat_minor": 5
}
