{
 "cells": [
  {
   "cell_type": "code",
   "execution_count": 1,
   "id": "ae60e2d6-ea67-4fe2-8340-7ca9cf1ebbb0",
   "metadata": {},
   "outputs": [],
   "source": [
    "from selenium import webdriver as wb\n",
    "from selenium.webdriver.common.keys import Keys\n",
    "from selenium.webdriver.common.by import By\n",
    "import time\n",
    "import os\n",
    "from urllib.request import urlretrieve\n",
    "import re"
   ]
  },
  {
   "cell_type": "code",
   "execution_count": 2,
   "id": "d7b97c04-448a-4e69-ac84-a33c2062e3fe",
   "metadata": {},
   "outputs": [],
   "source": [
    "driver = wb.Chrome()\n",
    "driver.get(\"https://www.instagram.com/\")"
   ]
  },
  {
   "cell_type": "code",
   "execution_count": 3,
   "id": "8fc7bc33-03ce-4805-ba16-fe6415b5101e",
   "metadata": {},
   "outputs": [],
   "source": [
    "id_input = driver.find_element(By.XPATH, \"//input[@name='username']\")\n",
    "id_input.send_keys(\"zaynelee90\")"
   ]
  },
  {
   "cell_type": "code",
   "execution_count": 4,
   "id": "ad27432d-7626-4859-90aa-0428019f380f",
   "metadata": {},
   "outputs": [],
   "source": [
    "pw_input = driver.find_element(By.XPATH, \"//input[@name='password']\")\n",
    "pw_input.send_keys(\"@L4545house\")"
   ]
  },
  {
   "cell_type": "code",
   "execution_count": 5,
   "id": "9bc4cd7f-e4f6-4edd-b6bf-c89083db5578",
   "metadata": {},
   "outputs": [],
   "source": [
    "login_button = driver.find_element(By.XPATH, \"//div[text()='로그인']\")\n",
    "login_button.click()"
   ]
  },
  {
   "cell_type": "code",
   "execution_count": 6,
   "id": "e8e715e0-2c30-476b-820d-e09e816f5b37",
   "metadata": {},
   "outputs": [],
   "source": [
    "later_button = driver.find_element(By.XPATH, \"//div[text()='나중에 하기']\")\n",
    "later_button.click()"
   ]
  },
  {
   "cell_type": "code",
   "execution_count": 12,
   "id": "e67787e0-6f6b-4ac6-876b-638f8d19bc47",
   "metadata": {},
   "outputs": [
    {
     "ename": "ElementClickInterceptedException",
     "evalue": "Message: element click intercepted: Element <span class=\"x1lliihq x1plvlek xryxfnj x1n2onr6 x1ji0vk5 x18bv5gf x193iq5w xeuugli x1fj9vlw x13faqbe x1vvkbs x1s928wv xhkezso x1gmr53x x1cpjm7i x1fgarty x1943h6x x1i0vuye x133cpev x1s688f x5n08af x1yc453h x4zkp8e x41vudc x10wh9bi x1wdrske x8viiok x18hxmgj\" dir=\"auto\" style=\"----base-line-clamp-line-height: 30px; --lineHeight: 30px;\">...</span> is not clickable at point (276, 39). Other element would receive the click: <div class=\"x1qjc9v5 x972fbf xcfux6l x1qhh985 xm0m39n x1ey2m1c x9f619 x78zum5 xdt5ytf x2lah0s xln7xf2 xk390pu xds687c x17qophe xdj266r x11i5rnm xat24cr x1mh8g0r xexx8yu x4uap5 x18d9i69 xkhd6sd xixxii4 x13vifvy x11njtxf\" role=\"dialog\"></div>\n  (Session info: chrome=131.0.6778.109)\nStacktrace:\n\tGetHandleVerifier [0x00007FF6A3CD6CB5+28821]\n\t(No symbol) [0x00007FF6A3C43840]\n\t(No symbol) [0x00007FF6A3AE578A]\n\t(No symbol) [0x00007FF6A3B40E8E]\n\t(No symbol) [0x00007FF6A3B3E92C]\n\t(No symbol) [0x00007FF6A3B3BAF6]\n\t(No symbol) [0x00007FF6A3B3AA51]\n\t(No symbol) [0x00007FF6A3B2CBA0]\n\t(No symbol) [0x00007FF6A3B5F2FA]\n\t(No symbol) [0x00007FF6A3B2C3F6]\n\t(No symbol) [0x00007FF6A3B5F510]\n\t(No symbol) [0x00007FF6A3B7F412]\n\t(No symbol) [0x00007FF6A3B5F0A3]\n\t(No symbol) [0x00007FF6A3B2A778]\n\t(No symbol) [0x00007FF6A3B2B8E1]\n\tGetHandleVerifier [0x00007FF6A400FCAD+3408013]\n\tGetHandleVerifier [0x00007FF6A402741F+3504127]\n\tGetHandleVerifier [0x00007FF6A401B5FD+3455453]\n\tGetHandleVerifier [0x00007FF6A3D9BDBB+835995]\n\t(No symbol) [0x00007FF6A3C4EB5F]\n\t(No symbol) [0x00007FF6A3C4A814]\n\t(No symbol) [0x00007FF6A3C4A9AD]\n\t(No symbol) [0x00007FF6A3C3A199]\n\tBaseThreadInitThunk [0x00007FFC7601259D+29]\n\tRtlUserThreadStart [0x00007FFC76F2AF38+40]\n",
     "output_type": "error",
     "traceback": [
      "\u001b[1;31m---------------------------------------------------------------------------\u001b[0m",
      "\u001b[1;31mElementClickInterceptedException\u001b[0m          Traceback (most recent call last)",
      "Cell \u001b[1;32mIn[12], line 2\u001b[0m\n\u001b[0;32m      1\u001b[0m search_button \u001b[38;5;241m=\u001b[39m driver\u001b[38;5;241m.\u001b[39mfind_element(By\u001b[38;5;241m.\u001b[39mXPATH, \u001b[38;5;124m\"\u001b[39m\u001b[38;5;124m//span[text()=\u001b[39m\u001b[38;5;124m'\u001b[39m\u001b[38;5;124m검색\u001b[39m\u001b[38;5;124m'\u001b[39m\u001b[38;5;124m]\u001b[39m\u001b[38;5;124m\"\u001b[39m)\n\u001b[1;32m----> 2\u001b[0m search_button\u001b[38;5;241m.\u001b[39mclick()\n",
      "File \u001b[1;32m~\\anaconda3\\Lib\\site-packages\\selenium\\webdriver\\remote\\webelement.py:94\u001b[0m, in \u001b[0;36mWebElement.click\u001b[1;34m(self)\u001b[0m\n\u001b[0;32m     92\u001b[0m \u001b[38;5;28;01mdef\u001b[39;00m \u001b[38;5;21mclick\u001b[39m(\u001b[38;5;28mself\u001b[39m) \u001b[38;5;241m-\u001b[39m\u001b[38;5;241m>\u001b[39m \u001b[38;5;28;01mNone\u001b[39;00m:\n\u001b[0;32m     93\u001b[0m \u001b[38;5;250m    \u001b[39m\u001b[38;5;124;03m\"\"\"Clicks the element.\"\"\"\u001b[39;00m\n\u001b[1;32m---> 94\u001b[0m     \u001b[38;5;28mself\u001b[39m\u001b[38;5;241m.\u001b[39m_execute(Command\u001b[38;5;241m.\u001b[39mCLICK_ELEMENT)\n",
      "File \u001b[1;32m~\\anaconda3\\Lib\\site-packages\\selenium\\webdriver\\remote\\webelement.py:395\u001b[0m, in \u001b[0;36mWebElement._execute\u001b[1;34m(self, command, params)\u001b[0m\n\u001b[0;32m    393\u001b[0m     params \u001b[38;5;241m=\u001b[39m {}\n\u001b[0;32m    394\u001b[0m params[\u001b[38;5;124m\"\u001b[39m\u001b[38;5;124mid\u001b[39m\u001b[38;5;124m\"\u001b[39m] \u001b[38;5;241m=\u001b[39m \u001b[38;5;28mself\u001b[39m\u001b[38;5;241m.\u001b[39m_id\n\u001b[1;32m--> 395\u001b[0m \u001b[38;5;28;01mreturn\u001b[39;00m \u001b[38;5;28mself\u001b[39m\u001b[38;5;241m.\u001b[39m_parent\u001b[38;5;241m.\u001b[39mexecute(command, params)\n",
      "File \u001b[1;32m~\\anaconda3\\Lib\\site-packages\\selenium\\webdriver\\remote\\webdriver.py:384\u001b[0m, in \u001b[0;36mWebDriver.execute\u001b[1;34m(self, driver_command, params)\u001b[0m\n\u001b[0;32m    382\u001b[0m response \u001b[38;5;241m=\u001b[39m \u001b[38;5;28mself\u001b[39m\u001b[38;5;241m.\u001b[39mcommand_executor\u001b[38;5;241m.\u001b[39mexecute(driver_command, params)\n\u001b[0;32m    383\u001b[0m \u001b[38;5;28;01mif\u001b[39;00m response:\n\u001b[1;32m--> 384\u001b[0m     \u001b[38;5;28mself\u001b[39m\u001b[38;5;241m.\u001b[39merror_handler\u001b[38;5;241m.\u001b[39mcheck_response(response)\n\u001b[0;32m    385\u001b[0m     response[\u001b[38;5;124m\"\u001b[39m\u001b[38;5;124mvalue\u001b[39m\u001b[38;5;124m\"\u001b[39m] \u001b[38;5;241m=\u001b[39m \u001b[38;5;28mself\u001b[39m\u001b[38;5;241m.\u001b[39m_unwrap_value(response\u001b[38;5;241m.\u001b[39mget(\u001b[38;5;124m\"\u001b[39m\u001b[38;5;124mvalue\u001b[39m\u001b[38;5;124m\"\u001b[39m, \u001b[38;5;28;01mNone\u001b[39;00m))\n\u001b[0;32m    386\u001b[0m     \u001b[38;5;28;01mreturn\u001b[39;00m response\n",
      "File \u001b[1;32m~\\anaconda3\\Lib\\site-packages\\selenium\\webdriver\\remote\\errorhandler.py:232\u001b[0m, in \u001b[0;36mErrorHandler.check_response\u001b[1;34m(self, response)\u001b[0m\n\u001b[0;32m    230\u001b[0m         alert_text \u001b[38;5;241m=\u001b[39m value[\u001b[38;5;124m\"\u001b[39m\u001b[38;5;124malert\u001b[39m\u001b[38;5;124m\"\u001b[39m]\u001b[38;5;241m.\u001b[39mget(\u001b[38;5;124m\"\u001b[39m\u001b[38;5;124mtext\u001b[39m\u001b[38;5;124m\"\u001b[39m)\n\u001b[0;32m    231\u001b[0m     \u001b[38;5;28;01mraise\u001b[39;00m exception_class(message, screen, stacktrace, alert_text)  \u001b[38;5;66;03m# type: ignore[call-arg]  # mypy is not smart enough here\u001b[39;00m\n\u001b[1;32m--> 232\u001b[0m \u001b[38;5;28;01mraise\u001b[39;00m exception_class(message, screen, stacktrace)\n",
      "\u001b[1;31mElementClickInterceptedException\u001b[0m: Message: element click intercepted: Element <span class=\"x1lliihq x1plvlek xryxfnj x1n2onr6 x1ji0vk5 x18bv5gf x193iq5w xeuugli x1fj9vlw x13faqbe x1vvkbs x1s928wv xhkezso x1gmr53x x1cpjm7i x1fgarty x1943h6x x1i0vuye x133cpev x1s688f x5n08af x1yc453h x4zkp8e x41vudc x10wh9bi x1wdrske x8viiok x18hxmgj\" dir=\"auto\" style=\"----base-line-clamp-line-height: 30px; --lineHeight: 30px;\">...</span> is not clickable at point (276, 39). Other element would receive the click: <div class=\"x1qjc9v5 x972fbf xcfux6l x1qhh985 xm0m39n x1ey2m1c x9f619 x78zum5 xdt5ytf x2lah0s xln7xf2 xk390pu xds687c x17qophe xdj266r x11i5rnm xat24cr x1mh8g0r xexx8yu x4uap5 x18d9i69 xkhd6sd xixxii4 x13vifvy x11njtxf\" role=\"dialog\"></div>\n  (Session info: chrome=131.0.6778.109)\nStacktrace:\n\tGetHandleVerifier [0x00007FF6A3CD6CB5+28821]\n\t(No symbol) [0x00007FF6A3C43840]\n\t(No symbol) [0x00007FF6A3AE578A]\n\t(No symbol) [0x00007FF6A3B40E8E]\n\t(No symbol) [0x00007FF6A3B3E92C]\n\t(No symbol) [0x00007FF6A3B3BAF6]\n\t(No symbol) [0x00007FF6A3B3AA51]\n\t(No symbol) [0x00007FF6A3B2CBA0]\n\t(No symbol) [0x00007FF6A3B5F2FA]\n\t(No symbol) [0x00007FF6A3B2C3F6]\n\t(No symbol) [0x00007FF6A3B5F510]\n\t(No symbol) [0x00007FF6A3B7F412]\n\t(No symbol) [0x00007FF6A3B5F0A3]\n\t(No symbol) [0x00007FF6A3B2A778]\n\t(No symbol) [0x00007FF6A3B2B8E1]\n\tGetHandleVerifier [0x00007FF6A400FCAD+3408013]\n\tGetHandleVerifier [0x00007FF6A402741F+3504127]\n\tGetHandleVerifier [0x00007FF6A401B5FD+3455453]\n\tGetHandleVerifier [0x00007FF6A3D9BDBB+835995]\n\t(No symbol) [0x00007FF6A3C4EB5F]\n\t(No symbol) [0x00007FF6A3C4A814]\n\t(No symbol) [0x00007FF6A3C4A9AD]\n\t(No symbol) [0x00007FF6A3C3A199]\n\tBaseThreadInitThunk [0x00007FFC7601259D+29]\n\tRtlUserThreadStart [0x00007FFC76F2AF38+40]\n"
     ]
    }
   ],
   "source": [
    "search_button = driver.find_element(By.XPATH, \"//span[text()='검색']\")\n",
    "search_button.click()"
   ]
  },
  {
   "cell_type": "code",
   "execution_count": 14,
   "id": "61542820-bffe-4985-a13b-4e151bd803b3",
   "metadata": {},
   "outputs": [],
   "source": [
    "search_input = driver.find_element(By.CSS_SELECTOR, \"#mount_0_0_qN > div > div > div.x9f619.x1n2onr6.x1ja2u2z > div > div > div.x78zum5.xdt5ytf.x1t2pt76.x1n2onr6.x1ja2u2z.x10cihs4 > div.x9f619.xvbhtw8.x78zum5.x168nmei.x13lgxp2.x5pf9jr.xo71vjh.x1uhb9sk.x1plvlek.xryxfnj.x1c4vz4f.x2lah0s.x1q0g3np.xqjyukv.x1qjc9v5.x1oa3qoh.x1qughib > div.x9f619.xjbqb8w.x78zum5.x168nmei.x13lgxp2.x5pf9jr.xo71vjh.xixxii4.x13vifvy.x1plvlek.xryxfnj.x1c4vz4f.x2lah0s.xdt5ytf.xqjyukv.x1qjc9v5.x1oa3qoh.x1nhvcw1.x1dr59a3.xeq5yr9.x1n327nk > div > div > div.x1u3tz30.x10l6tqk.x1ja2u2z > div > div > div.x9f619.xjbqb8w.x78zum5.x168nmei.x13lgxp2.x5pf9jr.xo71vjh.x1n2onr6.x1plvlek.xryxfnj.x1iyjqo2.x2lwn1j.xeuugli.xdt5ytf.xqjyukv.x1qjc9v5.x1oa3qoh.x1nhvcw1 > div > div > div.x9f619.xjbqb8w.x78zum5.x168nmei.x13lgxp2.x5pf9jr.xo71vjh.x1d52u69.xktsk01.x1n2onr6.x1plvlek.xryxfnj.x1c4vz4f.x2lah0s.xdt5ytf.xqjyukv.x1qjc9v5.x1oa3qoh.x1nhvcw1 > div > div > input\")\n",
    "search_input.send_keys(\"손흥민\")"
   ]
  },
  {
   "cell_type": "code",
   "execution_count": 16,
   "id": "d25b2a9b-a473-49bf-9f2b-7b0bb976fa88",
   "metadata": {},
   "outputs": [],
   "source": [
    "son = driver.find_element(By.CSS_SELECTOR, \"#mount_0_0_qN > div > div > div.x9f619.x1n2onr6.x1ja2u2z > div > div > div.x78zum5.xdt5ytf.x1t2pt76.x1n2onr6.x1ja2u2z.x10cihs4 > div.x9f619.xvbhtw8.x78zum5.x168nmei.x13lgxp2.x5pf9jr.xo71vjh.x1uhb9sk.x1plvlek.xryxfnj.x1c4vz4f.x2lah0s.x1q0g3np.xqjyukv.x1qjc9v5.x1oa3qoh.x1qughib > div.x9f619.xjbqb8w.x78zum5.x168nmei.x13lgxp2.x5pf9jr.xo71vjh.xixxii4.x13vifvy.x1plvlek.xryxfnj.x1c4vz4f.x2lah0s.xdt5ytf.xqjyukv.x1qjc9v5.x1oa3qoh.x1nhvcw1.x1dr59a3.xeq5yr9.x1n327nk > div > div > div.x1u3tz30.x10l6tqk.x1ja2u2z > div > div > div.x9f619.xjbqb8w.x78zum5.x168nmei.x13lgxp2.x5pf9jr.xo71vjh.x1n2onr6.x1plvlek.xryxfnj.x1iyjqo2.x2lwn1j.xeuugli.xdt5ytf.xqjyukv.x1qjc9v5.x1oa3qoh.x1nhvcw1 > div > div > div.x6s0dn4.x78zum5.xdt5ytf.x5yr21d.x1odjw0f.x1n2onr6.xh8yej3 > div > a:nth-child(1) > div.x9f619.xjbqb8w.x78zum5.x168nmei.x13lgxp2.x5pf9jr.xo71vjh.xxbr6pl.xbbxn1n.xwib8y2.x1y1aw1k.x1uhb9sk.x1plvlek.xryxfnj.x1c4vz4f.x2lah0s.xdt5ytf.xqjyukv.x1qjc9v5.x1oa3qoh.x1nhvcw1 > div > div > div.x9f619.x1ja2u2z.x78zum5.x1n2onr6.x1iyjqo2.xs83m0k.xeuugli.x1qughib.x6s0dn4.x1a02dak.x1q0g3np.xdl72j9 > div > div > span > span\")\n",
    "son.click()"
   ]
  },
  {
   "cell_type": "code",
   "execution_count": 18,
   "id": "faecc2f5-fe42-4897-a99d-c1ea0762225a",
   "metadata": {},
   "outputs": [],
   "source": [
    "follow = driver.find_element(By.XPATH, \"//a[contains(text(),'팔로우')]\")\n",
    "follow.click()"
   ]
  },
  {
   "cell_type": "code",
   "execution_count": 19,
   "id": "4c303170-2524-42bf-83e6-4a932286f5aa",
   "metadata": {},
   "outputs": [],
   "source": [
    "try :\n",
    "    for i in range(100):\n",
    "        body = driver.find_element(By.XPATH, \"/html/body/div[5]/div[2]/div/div/div[1]/div/div[2]/div/div/div/div/div[2]/div/div/div[4]\")\n",
    "        body.send_keys(Keys.END)\n",
    "        time.sleep(0.5)\n",
    "except:\n",
    "    print(\"스크롤 완료\")"
   ]
  },
  {
   "cell_type": "code",
   "execution_count": 21,
   "id": "b79894c8-5e2a-42de-a729-73bb45004836",
   "metadata": {},
   "outputs": [
    {
     "data": {
      "text/plain": [
       "'mun_ki88'"
      ]
     },
     "execution_count": 21,
     "metadata": {},
     "output_type": "execute_result"
    }
   ],
   "source": [
    "fList = driver.find_elements(By.CSS_SELECTOR, \"body > div.x1n2onr6.xzkaem6 > div:nth-child(2) > div > div > div.x9f619.x1n2onr6.x1ja2u2z > div > div.x1uvtmcs.x4k7w5x.x1h91t0o.x1beo9mf.xaigb6o.x12ejxvf.x3igimt.xarpa2k.xedcshv.x1lytzrv.x1t2pt76.x7ja8zs.x1n2onr6.x1qrby5j.x1jfb8zj > div > div > div > div > div.x7r02ix.xf1ldfh.x131esax.xdajt7p.xxfnqb6.xb88tzc.xw2csxc.x1odjw0f.x5fp0pe > div > div > div.xyi19xy.x1ccrb07.xtf3nb5.x1pc53ja.x1lliihq.x1iyjqo2.xs83m0k.xz65tgg.x1rife3k.x1n2onr6 > div > div > div > div > div > div > div.x9f619.x1ja2u2z.x78zum5.x1n2onr6.x1iyjqo2.xs83m0k.xeuugli.x1qughib.x6s0dn4.x1a02dak.x1q0g3np.xdl72j9 > div > div > div > div > div > a > div > div > span\")\n",
    "fList[0].text"
   ]
  },
  {
   "cell_type": "code",
   "execution_count": 22,
   "id": "93dc062e-68cf-41bb-a540-99bbae5c752f",
   "metadata": {},
   "outputs": [
    {
     "data": {
      "text/plain": [
       "238"
      ]
     },
     "execution_count": 22,
     "metadata": {},
     "output_type": "execute_result"
    }
   ],
   "source": [
    "len(fList)"
   ]
  },
  {
   "cell_type": "code",
   "execution_count": 32,
   "id": "9ac0b36e-5781-4c3c-9428-f333196e189c",
   "metadata": {},
   "outputs": [
    {
     "data": {
      "text/plain": [
       "'https://instagram.ficn4-1.fna.fbcdn.net/v/t51.29350-15/467700273_1033743218522926_7818809488430563121_n.heic?stp=dst-jpg_e35_tt6&efg=eyJ2ZW5jb2RlX3RhZyI6ImltYWdlX3VybGdlbi4xNDQweDE0NDAuc2RyLmYyOTM1MC5kZWZhdWx0X2ltYWdlIn0&_nc_ht=instagram.ficn4-1.fna.fbcdn.net&_nc_cat=110&_nc_ohc=tdVZ8nsRMEIQ7kNvgHKp5CM&_nc_gid=533b3147d2314d2d94dd41a0ebdd5b54&edm=AP4sbd4BAAAA&ccb=7-5&ig_cache_key=MzUwNzkwNzI5ODU4NDk1NzUzNQ%3D%3D.3-ccb7-5&oh=00_AYDMU8OMNqM00JQ9XZMIuXMx00fGSMCsznb-nQvKLUNJJw&oe=6760B061&_nc_sid=7a9f4b'"
      ]
     },
     "execution_count": 32,
     "metadata": {},
     "output_type": "execute_result"
    }
   ],
   "source": [
    "img = driver.find_elements(By.CSS_SELECTOR, \"div._aagv > img\")\n",
    "img[0].get_attribute(\"src\")"
   ]
  },
  {
   "cell_type": "code",
   "execution_count": 33,
   "id": "9befd81a-ceea-4f31-8375-fc2c04be9f70",
   "metadata": {},
   "outputs": [],
   "source": [
    "for i in range(len(img)):\n",
    "    file_path = f\"C:/Users/star1/OneDrive/바탕 화면/이미지/{i}.jpg\"\n",
    "    urlretrieve(img[i].get_attribute(\"src\"), file_path)\n",
    "    sleep(0.5)"
   ]
  },
  {
   "cell_type": "code",
   "execution_count": null,
   "id": "1179c6e5-db44-47f8-a62f-17e1b3d6c667",
   "metadata": {},
   "outputs": [],
   "source": []
  }
 ],
 "metadata": {
  "kernelspec": {
   "display_name": "Python 3 (ipykernel)",
   "language": "python",
   "name": "python3"
  },
  "language_info": {
   "codemirror_mode": {
    "name": "ipython",
    "version": 3
   },
   "file_extension": ".py",
   "mimetype": "text/x-python",
   "name": "python",
   "nbconvert_exporter": "python",
   "pygments_lexer": "ipython3",
   "version": "3.12.7"
  }
 },
 "nbformat": 4,
 "nbformat_minor": 5
}
