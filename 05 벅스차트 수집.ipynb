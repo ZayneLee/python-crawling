{
 "cells": [
  {
   "cell_type": "code",
   "execution_count": 7,
   "id": "bc6ca36c-3ad6-4ce4-964a-172fce74e863",
   "metadata": {},
   "outputs": [],
   "source": [
    "import requests as req\n",
    "from bs4 import BeautifulSoup as bs\n",
    "import pandas as pd"
   ]
  },
  {
   "cell_type": "code",
   "execution_count": 3,
   "id": "b5508b88-0eee-47c4-9ae0-826f6940c847",
   "metadata": {},
   "outputs": [],
   "source": [
    "res = req.get(\"https://music.bugs.co.kr/chart\")"
   ]
  },
  {
   "cell_type": "code",
   "execution_count": 9,
   "id": "218cdbf8-eca8-46f3-8202-185cbe621c4e",
   "metadata": {},
   "outputs": [],
   "source": [
    "soup = bs(res.text,\"lxml\")"
   ]
  },
  {
   "cell_type": "code",
   "execution_count": 13,
   "id": "c7e88dc5-2e2c-4c61-825b-dadaa6b516bf",
   "metadata": {},
   "outputs": [],
   "source": [
    "rank = soup.select(\"div.ranking > strong\")"
   ]
  },
  {
   "cell_type": "code",
   "execution_count": 15,
   "id": "f5376335-92fc-4308-9c41-be11f4024fb1",
   "metadata": {},
   "outputs": [],
   "source": [
    "title = soup.select(\"p.title > a\")"
   ]
  },
  {
   "cell_type": "code",
   "execution_count": 17,
   "id": "17ceea3f-027c-49ba-b267-2ec03d38b8b2",
   "metadata": {},
   "outputs": [],
   "source": [
    "singer = soup.select(\"p.artist > a:nth-child(1)\")"
   ]
  },
  {
   "cell_type": "code",
   "execution_count": 20,
   "id": "2ed5a6de-2a0d-49b2-a608-c450856c350b",
   "metadata": {},
   "outputs": [
    {
     "data": {
      "text/plain": [
       "100"
      ]
     },
     "execution_count": 20,
     "metadata": {},
     "output_type": "execute_result"
    }
   ],
   "source": [
    "len(singer)"
   ]
  },
  {
   "cell_type": "code",
   "execution_count": 22,
   "id": "d8b3fe64-c817-4efc-ab88-a6950e72789d",
   "metadata": {},
   "outputs": [],
   "source": [
    "rankList = []\n",
    "titleList = []\n",
    "singerList = []\n",
    "\n",
    "for i in range(len(rank)):\n",
    "    rankList.append(rank[i].text)\n",
    "    titleList.append(title[i].text)\n",
    "    singerList.append(singer[i].text)"
   ]
  },
  {
   "cell_type": "code",
   "execution_count": 24,
   "id": "6e3ebb97-d946-41bd-8ff9-d7227dd21e9e",
   "metadata": {},
   "outputs": [
    {
     "data": {
      "text/plain": [
       "['G-DRAGON',\n",
       " 'aespa',\n",
       " '로제(ROSÉ)',\n",
       " 'G-DRAGON',\n",
       " '재쓰비 (JAESSBEE)',\n",
       " '제니 (JENNIE)',\n",
       " '로제(ROSÉ)',\n",
       " 'aespa',\n",
       " 'WOODZ',\n",
       " '태연 (TAEYEON)',\n",
       " '황가람',\n",
       " 'KISS OF LIFE',\n",
       " 'PLAVE',\n",
       " 'DAY6 (데이식스)',\n",
       " 'QWER',\n",
       " 'BABYMONSTER',\n",
       " 'DAY6 (데이식스)',\n",
       " 'aespa',\n",
       " 'DAY6 (데이식스)',\n",
       " '에이스 (A.C.E)',\n",
       " 'NewJeans',\n",
       " 'DAY6 (데이식스)',\n",
       " 'QWER',\n",
       " 'NewJeans',\n",
       " '로이킴',\n",
       " '아일릿(ILLIT)',\n",
       " '이클립스 (ECLIPSE)',\n",
       " 'aespa',\n",
       " 'YENA (최예나)',\n",
       " '아일릿(ILLIT)',\n",
       " '이무진',\n",
       " '비비(BIBI)',\n",
       " 'DAY6 (데이식스)',\n",
       " '프로미스나인',\n",
       " 'TWS (투어스)',\n",
       " '(여자)아이들',\n",
       " '아이유(IU)',\n",
       " 'aespa',\n",
       " '태연 (TAEYEON)',\n",
       " '너드커넥션(Nerd Connection)',\n",
       " 'IVE (아이브)',\n",
       " 'DAY6 (데이식스)',\n",
       " 'NewJeans',\n",
       " 'FIFTY FIFTY',\n",
       " '다비치',\n",
       " '이창섭',\n",
       " 'NewJeans',\n",
       " 'DAY6 (데이식스)',\n",
       " '잔나비',\n",
       " 'NewJeans',\n",
       " '순순희 (지환)',\n",
       " '성시경',\n",
       " '범진',\n",
       " 'MEOVV (미야오)',\n",
       " 'IVE (아이브)',\n",
       " 'AKMU(악뮤)',\n",
       " 'NewJeans',\n",
       " 'TWS (투어스)',\n",
       " 'NewJeans',\n",
       " '최유리',\n",
       " '폴킴(Paul Kim)',\n",
       " '이영지',\n",
       " '임재현',\n",
       " '엔플라잉(N.Flying)',\n",
       " '이무진',\n",
       " '(여자)아이들',\n",
       " 'DAY6 (데이식스)',\n",
       " '임영웅',\n",
       " '태연 (TAEYEON)',\n",
       " 'Crush',\n",
       " 'IVE (아이브)',\n",
       " 'Taylor Swift(테일러 스위프트)',\n",
       " 'FIFTY FIFTY',\n",
       " 'KISS OF LIFE',\n",
       " '허각',\n",
       " '이무진',\n",
       " 'Charlie Puth(찰리 푸스)',\n",
       " '씨엔블루(CNBLUE)',\n",
       " '윤하(Younha/ユンナ)',\n",
       " '태연 (TAEYEON)',\n",
       " 'HYNN(박혜원)',\n",
       " '세븐틴(SEVENTEEN)',\n",
       " '박재정',\n",
       " 'aespa',\n",
       " 'NewJeans',\n",
       " 'aespa',\n",
       " 'RIIZE',\n",
       " 'Lady GaGa(레이디 가가)',\n",
       " 'DAY6 (데이식스)',\n",
       " '태연 (TAEYEON)',\n",
       " 'NMIXX',\n",
       " '윤하(Younha/ユンナ)',\n",
       " 'tripleS (트리플에스)',\n",
       " '지코 (ZICO)',\n",
       " 'Lauv(라우브)',\n",
       " '태연 (TAEYEON)',\n",
       " '멜로망스(MeloMance)',\n",
       " 'IVE (아이브)',\n",
       " 'Red Velvet (레드벨벳)',\n",
       " '아이린 (IRENE)']"
      ]
     },
     "execution_count": 24,
     "metadata": {},
     "output_type": "execute_result"
    }
   ],
   "source": [
    "singerList"
   ]
  },
  {
   "cell_type": "code",
   "execution_count": 25,
   "id": "bda7204a-1624-404b-9d8c-2a25d11b9a21",
   "metadata": {},
   "outputs": [],
   "source": [
    "data = {\"순위\":rankList , \"노래제목\":titleList , \"가수\":singerList}"
   ]
  },
  {
   "cell_type": "code",
   "execution_count": 29,
   "id": "897e4c62-5181-48be-84f3-9acc0b9284e9",
   "metadata": {},
   "outputs": [
    {
     "data": {
      "text/html": [
       "<div>\n",
       "<style scoped>\n",
       "    .dataframe tbody tr th:only-of-type {\n",
       "        vertical-align: middle;\n",
       "    }\n",
       "\n",
       "    .dataframe tbody tr th {\n",
       "        vertical-align: top;\n",
       "    }\n",
       "\n",
       "    .dataframe thead th {\n",
       "        text-align: right;\n",
       "    }\n",
       "</style>\n",
       "<table border=\"1\" class=\"dataframe\">\n",
       "  <thead>\n",
       "    <tr style=\"text-align: right;\">\n",
       "      <th></th>\n",
       "      <th>노래제목</th>\n",
       "      <th>가수</th>\n",
       "    </tr>\n",
       "    <tr>\n",
       "      <th>순위</th>\n",
       "      <th></th>\n",
       "      <th></th>\n",
       "    </tr>\n",
       "  </thead>\n",
       "  <tbody>\n",
       "    <tr>\n",
       "      <th>1</th>\n",
       "      <td>HOME SWEET HOME (feat. 태양, 대성)</td>\n",
       "      <td>G-DRAGON</td>\n",
       "    </tr>\n",
       "    <tr>\n",
       "      <th>2</th>\n",
       "      <td>Whiplash</td>\n",
       "      <td>aespa</td>\n",
       "    </tr>\n",
       "    <tr>\n",
       "      <th>3</th>\n",
       "      <td>APT.</td>\n",
       "      <td>로제(ROSÉ)</td>\n",
       "    </tr>\n",
       "    <tr>\n",
       "      <th>4</th>\n",
       "      <td>POWER</td>\n",
       "      <td>G-DRAGON</td>\n",
       "    </tr>\n",
       "    <tr>\n",
       "      <th>5</th>\n",
       "      <td>너와의 모든 지금</td>\n",
       "      <td>재쓰비 (JAESSBEE)</td>\n",
       "    </tr>\n",
       "    <tr>\n",
       "      <th>...</th>\n",
       "      <td>...</td>\n",
       "      <td>...</td>\n",
       "    </tr>\n",
       "    <tr>\n",
       "      <th>96</th>\n",
       "      <td>Hot Mess</td>\n",
       "      <td>태연 (TAEYEON)</td>\n",
       "    </tr>\n",
       "    <tr>\n",
       "      <th>97</th>\n",
       "      <td>사랑인가 봐</td>\n",
       "      <td>멜로망스(MeloMance)</td>\n",
       "    </tr>\n",
       "    <tr>\n",
       "      <th>98</th>\n",
       "      <td>LOVE DIVE</td>\n",
       "      <td>IVE (아이브)</td>\n",
       "    </tr>\n",
       "    <tr>\n",
       "      <th>99</th>\n",
       "      <td>Cosmic</td>\n",
       "      <td>Red Velvet (레드벨벳)</td>\n",
       "    </tr>\n",
       "    <tr>\n",
       "      <th>100</th>\n",
       "      <td>Like A Flower</td>\n",
       "      <td>아이린 (IRENE)</td>\n",
       "    </tr>\n",
       "  </tbody>\n",
       "</table>\n",
       "<p>100 rows × 2 columns</p>\n",
       "</div>"
      ],
      "text/plain": [
       "                               노래제목                 가수\n",
       "순위                                                    \n",
       "1    HOME SWEET HOME (feat. 태양, 대성)           G-DRAGON\n",
       "2                          Whiplash              aespa\n",
       "3                              APT.           로제(ROSÉ)\n",
       "4                             POWER           G-DRAGON\n",
       "5                         너와의 모든 지금     재쓰비 (JAESSBEE)\n",
       "..                              ...                ...\n",
       "96                         Hot Mess       태연 (TAEYEON)\n",
       "97                           사랑인가 봐    멜로망스(MeloMance)\n",
       "98                        LOVE DIVE          IVE (아이브)\n",
       "99                           Cosmic  Red Velvet (레드벨벳)\n",
       "100                   Like A Flower        아이린 (IRENE)\n",
       "\n",
       "[100 rows x 2 columns]"
      ]
     },
     "execution_count": 29,
     "metadata": {},
     "output_type": "execute_result"
    }
   ],
   "source": [
    "bugs = pd.DataFrame(data)\n",
    "bugs.set_index(\"순위\")"
   ]
  },
  {
   "cell_type": "code",
   "execution_count": 30,
   "id": "d4cf8660-ce6a-4d56-a485-fbbeb50ca742",
   "metadata": {},
   "outputs": [],
   "source": [
    "bugs.to_csv(\"벅스차트.csv\")"
   ]
  }
 ],
 "metadata": {
  "kernelspec": {
   "display_name": "Python 3 (ipykernel)",
   "language": "python",
   "name": "python3"
  },
  "language_info": {
   "codemirror_mode": {
    "name": "ipython",
    "version": 3
   },
   "file_extension": ".py",
   "mimetype": "text/x-python",
   "name": "python",
   "nbconvert_exporter": "python",
   "pygments_lexer": "ipython3",
   "version": "3.12.7"
  }
 },
 "nbformat": 4,
 "nbformat_minor": 5
}
