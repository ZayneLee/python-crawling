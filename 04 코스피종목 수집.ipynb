{
 "cells": [
  {
   "cell_type": "code",
   "execution_count": 3,
   "id": "eca9d761-6401-4c8f-8b9d-17507c2992df",
   "metadata": {},
   "outputs": [],
   "source": [
    "import requests as res\n",
    "from bs4 import BeautifulSoup as bs"
   ]
  },
  {
   "cell_type": "code",
   "execution_count": 5,
   "id": "70aba3c7-f79e-475c-9658-19f5831e3e3a",
   "metadata": {},
   "outputs": [],
   "source": [
    "naver = res.get(\"https://finance.naver.com/sise/sise_quant.naver\")"
   ]
  },
  {
   "cell_type": "code",
   "execution_count": 6,
   "id": "68053f24-3da3-42d7-88e5-37150323785b",
   "metadata": {},
   "outputs": [],
   "source": [
    "soup = bs(naver.text, \"lxml\")"
   ]
  },
  {
   "cell_type": "code",
   "execution_count": 7,
   "id": "96df3f9b-e6fa-465c-a33e-3a4921f6e342",
   "metadata": {},
   "outputs": [],
   "source": [
    "title = soup.select(\"a.tltle\")"
   ]
  },
  {
   "cell_type": "code",
   "execution_count": 9,
   "id": "3cc85c8e-e06d-4887-b438-9c4fca59542a",
   "metadata": {},
   "outputs": [],
   "source": [
    "price = soup.select(\"td.number:nth-child(3)\")"
   ]
  },
  {
   "cell_type": "code",
   "execution_count": 25,
   "id": "50eaf287-3816-4ba4-a03e-43ab7b822575",
   "metadata": {},
   "outputs": [],
   "source": [
    "# #contentarea > div.box_type_l > table > tbody > tr:nth-child(3) > td:nth-child(3)"
   ]
  },
  {
   "cell_type": "code",
   "execution_count": 37,
   "id": "97afb5ae-b2ca-4e3e-9dc8-2fe741d1ec98",
   "metadata": {},
   "outputs": [
    {
     "data": {
      "text/plain": [
       "100"
      ]
     },
     "execution_count": 37,
     "metadata": {},
     "output_type": "execute_result"
    }
   ],
   "source": [
    "len(price)"
   ]
  },
  {
   "cell_type": "code",
   "execution_count": 30,
   "id": "f6f3d4d6-adf9-4cd2-8f05-9436e30da521",
   "metadata": {},
   "outputs": [],
   "source": [
    " # #contentarea > div.box_type_l > table > tbody > tr:nth-child(3) > td:nth-child(6)"
   ]
  },
  {
   "cell_type": "code",
   "execution_count": 10,
   "id": "321ea112-aa38-4c8d-a9b4-d45b6d2e2207",
   "metadata": {},
   "outputs": [],
   "source": [
    "volume = soup.select(\"td.number:nth-child(6)\")"
   ]
  },
  {
   "cell_type": "code",
   "execution_count": 13,
   "id": "24228241-3e4d-4f0d-8bd4-72708766fd20",
   "metadata": {},
   "outputs": [],
   "source": [
    "titleList = []\n",
    "priceList = []\n",
    "volumeList = []\n",
    "for i in range(len(title)):\n",
    "    titleList.append(title[i].text)\n",
    "    priceList.append(price[i].text)\n",
    "    volumeList.append(volume[i].text)"
   ]
  },
  {
   "cell_type": "code",
   "execution_count": 18,
   "id": "c68f21a3-8087-42ad-939e-7fafef31fa76",
   "metadata": {},
   "outputs": [
    {
     "data": {
      "text/plain": [
       "100"
      ]
     },
     "execution_count": 18,
     "metadata": {},
     "output_type": "execute_result"
    }
   ],
   "source": [
    "len(volumeList)"
   ]
  },
  {
   "cell_type": "code",
   "execution_count": 20,
   "id": "4d80899b-19f8-4027-b14c-a9e458beb43a",
   "metadata": {},
   "outputs": [],
   "source": [
    "# 정제된 데이터를 표 형식 제작"
   ]
  },
  {
   "cell_type": "code",
   "execution_count": 21,
   "id": "9144b2a4-8a07-406b-bc54-6043e19d9215",
   "metadata": {},
   "outputs": [],
   "source": [
    "import pandas as pd"
   ]
  },
  {
   "cell_type": "code",
   "execution_count": 23,
   "id": "becf6526-600a-49f7-acce-95458bd7b48c",
   "metadata": {},
   "outputs": [],
   "source": [
    "data = {\"종목명\" : titleList, \"가격정보\" : priceList, \"거래량\" : volumeList}"
   ]
  },
  {
   "cell_type": "code",
   "execution_count": 25,
   "id": "e1d46a58-0f52-4e8d-bafa-453685c2339f",
   "metadata": {},
   "outputs": [],
   "source": [
    "kospi = pd.DataFrame(data)"
   ]
  },
  {
   "cell_type": "code",
   "execution_count": 27,
   "id": "2d520ffd-6c53-4005-8d12-07600941882d",
   "metadata": {},
   "outputs": [],
   "source": [
    "kospi.to_csv(\"코스피데이터.csv\", encoding = \"euc-kr\")"
   ]
  }
 ],
 "metadata": {
  "kernelspec": {
   "display_name": "Python 3 (ipykernel)",
   "language": "python",
   "name": "python3"
  },
  "language_info": {
   "codemirror_mode": {
    "name": "ipython",
    "version": 3
   },
   "file_extension": ".py",
   "mimetype": "text/x-python",
   "name": "python",
   "nbconvert_exporter": "python",
   "pygments_lexer": "ipython3",
   "version": "3.12.7"
  }
 },
 "nbformat": 4,
 "nbformat_minor": 5
}
