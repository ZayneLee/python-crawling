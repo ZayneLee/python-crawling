{
 "cells": [
  {
   "cell_type": "code",
   "execution_count": 1,
   "id": "eca9d761-6401-4c8f-8b9d-17507c2992df",
   "metadata": {},
   "outputs": [],
   "source": [
    "import requests as res\n",
    "from bs4 import BeautifulSoup as bs"
   ]
  },
  {
   "cell_type": "code",
   "execution_count": 5,
   "id": "70aba3c7-f79e-475c-9658-19f5831e3e3a",
   "metadata": {},
   "outputs": [],
   "source": [
    "naver = res.get(\"https://finance.naver.com/sise/sise_quant.naver\")"
   ]
  },
  {
   "cell_type": "code",
   "execution_count": 9,
   "id": "68053f24-3da3-42d7-88e5-37150323785b",
   "metadata": {},
   "outputs": [],
   "source": [
    "soup = bs(naver.text, \"lxml\")"
   ]
  },
  {
   "cell_type": "code",
   "execution_count": 17,
   "id": "96df3f9b-e6fa-465c-a33e-3a4921f6e342",
   "metadata": {},
   "outputs": [],
   "source": [
    "title = soup.select(\"a.tltle\")"
   ]
  },
  {
   "cell_type": "code",
   "execution_count": 26,
   "id": "3cc85c8e-e06d-4887-b438-9c4fca59542a",
   "metadata": {},
   "outputs": [],
   "source": [
    "price = soup.select(\"td.number:nth-child(3)\")"
   ]
  },
  {
   "cell_type": "code",
   "execution_count": 25,
   "id": "50eaf287-3816-4ba4-a03e-43ab7b822575",
   "metadata": {},
   "outputs": [],
   "source": [
    "# #contentarea > div.box_type_l > table > tbody > tr:nth-child(3) > td:nth-child(3)"
   ]
  },
  {
   "cell_type": "code",
   "execution_count": 37,
   "id": "97afb5ae-b2ca-4e3e-9dc8-2fe741d1ec98",
   "metadata": {},
   "outputs": [
    {
     "data": {
      "text/plain": [
       "100"
      ]
     },
     "execution_count": 37,
     "metadata": {},
     "output_type": "execute_result"
    }
   ],
   "source": [
    "len(price)"
   ]
  },
  {
   "cell_type": "code",
   "execution_count": 30,
   "id": "f6f3d4d6-adf9-4cd2-8f05-9436e30da521",
   "metadata": {},
   "outputs": [],
   "source": [
    " # #contentarea > div.box_type_l > table > tbody > tr:nth-child(3) > td:nth-child(6)"
   ]
  },
  {
   "cell_type": "code",
   "execution_count": 33,
   "id": "321ea112-aa38-4c8d-a9b4-d45b6d2e2207",
   "metadata": {},
   "outputs": [],
   "source": [
    "volume = soup.select(\"td.number:nth-child(6)\")"
   ]
  },
  {
   "cell_type": "code",
   "execution_count": 36,
   "id": "24228241-3e4d-4f0d-8bd4-72708766fd20",
   "metadata": {},
   "outputs": [
    {
     "data": {
      "text/plain": [
       "[<td class=\"number\">115,390,453</td>,\n",
       " <td class=\"number\">76,192,042</td>,\n",
       " <td class=\"number\">73,807,636</td>,\n",
       " <td class=\"number\">54,420,785</td>,\n",
       " <td class=\"number\">51,770,341</td>,\n",
       " <td class=\"number\">51,117,883</td>,\n",
       " <td class=\"number\">38,440,472</td>,\n",
       " <td class=\"number\">28,941,279</td>,\n",
       " <td class=\"number\">24,265,203</td>,\n",
       " <td class=\"number\">22,720,406</td>,\n",
       " <td class=\"number\">18,187,594</td>,\n",
       " <td class=\"number\">15,750,128</td>,\n",
       " <td class=\"number\">15,693,593</td>,\n",
       " <td class=\"number\">15,127,462</td>,\n",
       " <td class=\"number\">13,315,146</td>,\n",
       " <td class=\"number\">8,676,416</td>,\n",
       " <td class=\"number\">7,963,865</td>,\n",
       " <td class=\"number\">7,697,137</td>,\n",
       " <td class=\"number\">7,046,379</td>,\n",
       " <td class=\"number\">5,610,564</td>,\n",
       " <td class=\"number\">5,258,914</td>,\n",
       " <td class=\"number\">5,161,512</td>,\n",
       " <td class=\"number\">4,777,272</td>,\n",
       " <td class=\"number\">4,289,104</td>,\n",
       " <td class=\"number\">4,249,563</td>,\n",
       " <td class=\"number\">4,171,861</td>,\n",
       " <td class=\"number\">4,011,562</td>,\n",
       " <td class=\"number\">4,006,225</td>,\n",
       " <td class=\"number\">3,791,074</td>,\n",
       " <td class=\"number\">3,789,257</td>,\n",
       " <td class=\"number\">3,723,691</td>,\n",
       " <td class=\"number\">3,405,284</td>,\n",
       " <td class=\"number\">3,397,259</td>,\n",
       " <td class=\"number\">3,376,603</td>,\n",
       " <td class=\"number\">3,314,104</td>,\n",
       " <td class=\"number\">3,243,935</td>,\n",
       " <td class=\"number\">3,222,518</td>,\n",
       " <td class=\"number\">2,798,114</td>,\n",
       " <td class=\"number\">2,793,570</td>,\n",
       " <td class=\"number\">2,698,987</td>,\n",
       " <td class=\"number\">2,663,785</td>,\n",
       " <td class=\"number\">2,660,116</td>,\n",
       " <td class=\"number\">2,585,628</td>,\n",
       " <td class=\"number\">2,259,726</td>,\n",
       " <td class=\"number\">2,157,773</td>,\n",
       " <td class=\"number\">1,991,858</td>,\n",
       " <td class=\"number\">1,969,706</td>,\n",
       " <td class=\"number\">1,962,129</td>,\n",
       " <td class=\"number\">1,957,143</td>,\n",
       " <td class=\"number\">1,914,415</td>,\n",
       " <td class=\"number\">1,863,680</td>,\n",
       " <td class=\"number\">1,862,064</td>,\n",
       " <td class=\"number\">1,853,207</td>,\n",
       " <td class=\"number\">1,833,632</td>,\n",
       " <td class=\"number\">1,718,032</td>,\n",
       " <td class=\"number\">1,710,889</td>,\n",
       " <td class=\"number\">1,704,738</td>,\n",
       " <td class=\"number\">1,684,689</td>,\n",
       " <td class=\"number\">1,524,264</td>,\n",
       " <td class=\"number\">1,512,913</td>,\n",
       " <td class=\"number\">1,504,464</td>,\n",
       " <td class=\"number\">1,502,342</td>,\n",
       " <td class=\"number\">1,474,665</td>,\n",
       " <td class=\"number\">1,446,965</td>,\n",
       " <td class=\"number\">1,433,283</td>,\n",
       " <td class=\"number\">1,424,514</td>,\n",
       " <td class=\"number\">1,397,574</td>,\n",
       " <td class=\"number\">1,357,821</td>,\n",
       " <td class=\"number\">1,354,778</td>,\n",
       " <td class=\"number\">1,341,823</td>,\n",
       " <td class=\"number\">1,328,518</td>,\n",
       " <td class=\"number\">1,312,508</td>,\n",
       " <td class=\"number\">1,260,898</td>,\n",
       " <td class=\"number\">1,254,738</td>,\n",
       " <td class=\"number\">1,254,436</td>,\n",
       " <td class=\"number\">1,240,805</td>,\n",
       " <td class=\"number\">1,231,248</td>,\n",
       " <td class=\"number\">1,160,742</td>,\n",
       " <td class=\"number\">1,119,413</td>,\n",
       " <td class=\"number\">1,115,551</td>,\n",
       " <td class=\"number\">1,091,478</td>,\n",
       " <td class=\"number\">1,089,186</td>,\n",
       " <td class=\"number\">1,088,030</td>,\n",
       " <td class=\"number\">1,087,624</td>,\n",
       " <td class=\"number\">1,083,685</td>,\n",
       " <td class=\"number\">1,078,299</td>,\n",
       " <td class=\"number\">1,065,002</td>,\n",
       " <td class=\"number\">1,051,293</td>,\n",
       " <td class=\"number\">1,048,122</td>,\n",
       " <td class=\"number\">1,027,728</td>,\n",
       " <td class=\"number\">1,026,758</td>,\n",
       " <td class=\"number\">1,018,309</td>,\n",
       " <td class=\"number\">1,007,164</td>,\n",
       " <td class=\"number\">1,007,019</td>,\n",
       " <td class=\"number\">1,002,505</td>,\n",
       " <td class=\"number\">993,766</td>,\n",
       " <td class=\"number\">960,518</td>,\n",
       " <td class=\"number\">952,634</td>,\n",
       " <td class=\"number\">938,577</td>,\n",
       " <td class=\"number\">917,934</td>]"
      ]
     },
     "execution_count": 36,
     "metadata": {},
     "output_type": "execute_result"
    }
   ],
   "source": [
    "volume"
   ]
  }
 ],
 "metadata": {
  "kernelspec": {
   "display_name": "Python 3 (ipykernel)",
   "language": "python",
   "name": "python3"
  },
  "language_info": {
   "codemirror_mode": {
    "name": "ipython",
    "version": 3
   },
   "file_extension": ".py",
   "mimetype": "text/x-python",
   "name": "python",
   "nbconvert_exporter": "python",
   "pygments_lexer": "ipython3",
   "version": "3.12.7"
  }
 },
 "nbformat": 4,
 "nbformat_minor": 5
}
