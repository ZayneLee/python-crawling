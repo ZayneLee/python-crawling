{
 "cells": [
  {
   "cell_type": "code",
   "execution_count": 3,
   "id": "eca9d761-6401-4c8f-8b9d-17507c2992df",
   "metadata": {},
   "outputs": [],
   "source": [
    "import requests as res\n",
    "from bs4 import BeautifulSoup as bs"
   ]
  },
  {
   "cell_type": "code",
   "execution_count": 5,
   "id": "70aba3c7-f79e-475c-9658-19f5831e3e3a",
   "metadata": {},
   "outputs": [],
   "source": [
    "naver = res.get(\"https://finance.naver.com/sise/sise_quant.naver\")"
   ]
  },
  {
   "cell_type": "code",
   "execution_count": 6,
   "id": "68053f24-3da3-42d7-88e5-37150323785b",
   "metadata": {},
   "outputs": [],
   "source": [
    "soup = bs(naver.text, \"lxml\")"
   ]
  },
  {
   "cell_type": "code",
   "execution_count": 7,
   "id": "96df3f9b-e6fa-465c-a33e-3a4921f6e342",
   "metadata": {},
   "outputs": [],
   "source": [
    "title = soup.select(\"a.tltle\")"
   ]
  },
  {
   "cell_type": "code",
   "execution_count": 9,
   "id": "3cc85c8e-e06d-4887-b438-9c4fca59542a",
   "metadata": {},
   "outputs": [],
   "source": [
    "price = soup.select(\"td.number:nth-child(3)\")"
   ]
  },
  {
   "cell_type": "code",
   "execution_count": 25,
   "id": "50eaf287-3816-4ba4-a03e-43ab7b822575",
   "metadata": {},
   "outputs": [],
   "source": [
    "# #contentarea > div.box_type_l > table > tbody > tr:nth-child(3) > td:nth-child(3)"
   ]
  },
  {
   "cell_type": "code",
   "execution_count": 37,
   "id": "97afb5ae-b2ca-4e3e-9dc8-2fe741d1ec98",
   "metadata": {},
   "outputs": [
    {
     "data": {
      "text/plain": [
       "100"
      ]
     },
     "execution_count": 37,
     "metadata": {},
     "output_type": "execute_result"
    }
   ],
   "source": [
    "len(price)"
   ]
  },
  {
   "cell_type": "code",
   "execution_count": 30,
   "id": "f6f3d4d6-adf9-4cd2-8f05-9436e30da521",
   "metadata": {},
   "outputs": [],
   "source": [
    " # #contentarea > div.box_type_l > table > tbody > tr:nth-child(3) > td:nth-child(6)"
   ]
  },
  {
   "cell_type": "code",
   "execution_count": 10,
   "id": "321ea112-aa38-4c8d-a9b4-d45b6d2e2207",
   "metadata": {},
   "outputs": [],
   "source": [
    "volume = soup.select(\"td.number:nth-child(6)\")"
   ]
  },
  {
   "cell_type": "code",
   "execution_count": 13,
   "id": "24228241-3e4d-4f0d-8bd4-72708766fd20",
   "metadata": {},
   "outputs": [],
   "source": [
    "titleList = []\n",
    "priceList = []\n",
    "volumeList = []\n",
    "for i in range(len(title)):\n",
    "    titleList.append(title[i].text)\n",
    "    priceList.append(price[i].text)\n",
    "    volumeList.append(volume[i].text)"
   ]
  },
  {
   "cell_type": "code",
   "execution_count": 18,
   "id": "c68f21a3-8087-42ad-939e-7fafef31fa76",
   "metadata": {},
   "outputs": [
    {
     "data": {
      "text/plain": [
       "100"
      ]
     },
     "execution_count": 18,
     "metadata": {},
     "output_type": "execute_result"
    }
   ],
   "source": [
    "len(volumeList)"
   ]
  },
  {
   "cell_type": "code",
   "execution_count": 20,
   "id": "4d80899b-19f8-4027-b14c-a9e458beb43a",
   "metadata": {},
   "outputs": [],
   "source": [
    "# 정제된 데이터를 표 형식 제작"
   ]
  },
  {
   "cell_type": "code",
   "execution_count": 21,
   "id": "9144b2a4-8a07-406b-bc54-6043e19d9215",
   "metadata": {},
   "outputs": [],
   "source": [
    "import pandas as pd"
   ]
  },
  {
   "cell_type": "code",
   "execution_count": 23,
   "id": "becf6526-600a-49f7-acce-95458bd7b48c",
   "metadata": {},
   "outputs": [],
   "source": [
    "data = {\"종목명\" : titleList, \"가격정보\" : priceList, \"거래량\" : volumeList}"
   ]
  },
  {
   "cell_type": "code",
   "execution_count": 24,
   "id": "e1d46a58-0f52-4e8d-bafa-453685c2339f",
   "metadata": {},
   "outputs": [
    {
     "data": {
      "text/html": [
       "<div>\n",
       "<style scoped>\n",
       "    .dataframe tbody tr th:only-of-type {\n",
       "        vertical-align: middle;\n",
       "    }\n",
       "\n",
       "    .dataframe tbody tr th {\n",
       "        vertical-align: top;\n",
       "    }\n",
       "\n",
       "    .dataframe thead th {\n",
       "        text-align: right;\n",
       "    }\n",
       "</style>\n",
       "<table border=\"1\" class=\"dataframe\">\n",
       "  <thead>\n",
       "    <tr style=\"text-align: right;\">\n",
       "      <th></th>\n",
       "      <th>종목명</th>\n",
       "      <th>가격정보</th>\n",
       "      <th>거래량</th>\n",
       "    </tr>\n",
       "  </thead>\n",
       "  <tbody>\n",
       "    <tr>\n",
       "      <th>0</th>\n",
       "      <td>KODEX 200선물인버스2X</td>\n",
       "      <td>2,340</td>\n",
       "      <td>87,295,120</td>\n",
       "    </tr>\n",
       "    <tr>\n",
       "      <th>1</th>\n",
       "      <td>KODEX 코스닥150선물인버스</td>\n",
       "      <td>3,955</td>\n",
       "      <td>43,477,504</td>\n",
       "    </tr>\n",
       "    <tr>\n",
       "      <th>2</th>\n",
       "      <td>일신석재</td>\n",
       "      <td>1,704</td>\n",
       "      <td>41,648,447</td>\n",
       "    </tr>\n",
       "    <tr>\n",
       "      <th>3</th>\n",
       "      <td>삼성 인버스 2X WTI원유 선물 ETN</td>\n",
       "      <td>94</td>\n",
       "      <td>41,018,939</td>\n",
       "    </tr>\n",
       "    <tr>\n",
       "      <th>4</th>\n",
       "      <td>삼부토건</td>\n",
       "      <td>1,176</td>\n",
       "      <td>38,738,899</td>\n",
       "    </tr>\n",
       "    <tr>\n",
       "      <th>...</th>\n",
       "      <td>...</td>\n",
       "      <td>...</td>\n",
       "      <td>...</td>\n",
       "    </tr>\n",
       "    <tr>\n",
       "      <th>95</th>\n",
       "      <td>미래에셋 인버스 2X 코스닥150 선물 ETN</td>\n",
       "      <td>7,100</td>\n",
       "      <td>1,458,604</td>\n",
       "    </tr>\n",
       "    <tr>\n",
       "      <th>96</th>\n",
       "      <td>N2 인버스 레버리지 WTI원유 선물 ETN(H)</td>\n",
       "      <td>72</td>\n",
       "      <td>1,434,280</td>\n",
       "    </tr>\n",
       "    <tr>\n",
       "      <th>97</th>\n",
       "      <td>TIGER 미국배당다우존스타겟커버드콜2호</td>\n",
       "      <td>11,255</td>\n",
       "      <td>1,430,866</td>\n",
       "    </tr>\n",
       "    <tr>\n",
       "      <th>98</th>\n",
       "      <td>대한항공</td>\n",
       "      <td>24,200</td>\n",
       "      <td>1,388,563</td>\n",
       "    </tr>\n",
       "    <tr>\n",
       "      <th>99</th>\n",
       "      <td>삼성E&amp;A</td>\n",
       "      <td>18,800</td>\n",
       "      <td>1,366,312</td>\n",
       "    </tr>\n",
       "  </tbody>\n",
       "</table>\n",
       "<p>100 rows × 3 columns</p>\n",
       "</div>"
      ],
      "text/plain": [
       "                            종목명    가격정보         거래량\n",
       "0              KODEX 200선물인버스2X   2,340  87,295,120\n",
       "1             KODEX 코스닥150선물인버스   3,955  43,477,504\n",
       "2                          일신석재   1,704  41,648,447\n",
       "3        삼성 인버스 2X WTI원유 선물 ETN      94  41,018,939\n",
       "4                          삼부토건   1,176  38,738,899\n",
       "..                          ...     ...         ...\n",
       "95    미래에셋 인버스 2X 코스닥150 선물 ETN   7,100   1,458,604\n",
       "96  N2 인버스 레버리지 WTI원유 선물 ETN(H)      72   1,434,280\n",
       "97       TIGER 미국배당다우존스타겟커버드콜2호  11,255   1,430,866\n",
       "98                         대한항공  24,200   1,388,563\n",
       "99                        삼성E&A  18,800   1,366,312\n",
       "\n",
       "[100 rows x 3 columns]"
      ]
     },
     "execution_count": 24,
     "metadata": {},
     "output_type": "execute_result"
    }
   ],
   "source": [
    "pd.DataFrame(data)"
   ]
  }
 ],
 "metadata": {
  "kernelspec": {
   "display_name": "Python 3 (ipykernel)",
   "language": "python",
   "name": "python3"
  },
  "language_info": {
   "codemirror_mode": {
    "name": "ipython",
    "version": 3
   },
   "file_extension": ".py",
   "mimetype": "text/x-python",
   "name": "python",
   "nbconvert_exporter": "python",
   "pygments_lexer": "ipython3",
   "version": "3.12.7"
  }
 },
 "nbformat": 4,
 "nbformat_minor": 5
}
